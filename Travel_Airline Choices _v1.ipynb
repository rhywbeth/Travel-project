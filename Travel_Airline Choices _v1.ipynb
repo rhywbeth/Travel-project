{
 "cells": [
  {
   "cell_type": "markdown",
   "metadata": {},
   "source": [
    "## 1. Loading and cleaning of data\n",
    "\n",
    "The data sets are from the website https://travel.stackexchange.com/\n",
    "\n",
    "The file travel.stackexchange.com.7z (license: cc-by-sa 3.0) was downloaded from https://archive.org/details/stackexchange as XML files, each represents another data frame.\n",
    "\n",
    "The data was:\n",
    "- imported using Python,\n",
    "- cleared - numerical data in the appropriate int or float types, dates in the datetime type, etc.\n",
    "- transformed into pandas data frames,\n",
    "- exported to a CSV file.\n",
    "\n",
    "The full code needed to complete the above steps is provided below."
   ]
  },
  {
   "cell_type": "markdown",
   "metadata": {},
   "source": [
    "### Import required packages"
   ]
  },
  {
   "cell_type": "code",
   "execution_count": 1,
   "metadata": {},
   "outputs": [],
   "source": [
    "import pandas as pd\n",
    "import numpy as np\n",
    "from copy import deepcopy\n",
    "import io, os.path\n",
    "from lxml import etree as et\n",
    "import csv"
   ]
  },
  {
   "cell_type": "markdown",
   "metadata": {},
   "source": [
    "Let's ignore warnings:"
   ]
  },
  {
   "cell_type": "code",
   "execution_count": 2,
   "metadata": {},
   "outputs": [],
   "source": [
    "import warnings\n",
    "warnings.filterwarnings(\"ignore\")"
   ]
  },
  {
   "cell_type": "markdown",
   "metadata": {},
   "source": [
    "###  Define a function that creates a dictionary for loaded tables"
   ]
  },
  {
   "cell_type": "code",
   "execution_count": 3,
   "metadata": {},
   "outputs": [],
   "source": [
    "def dict_fun(root):\n",
    "    root_attrib = root.attrib\n",
    "    for tab in root:\n",
    "        tab_dict = deepcopy(root_attrib)\n",
    "        attrib_dict = {}\n",
    "        attrib_dict.update(tab.attrib)\n",
    "        for key, value in attrib_dict.items():\n",
    "            attrib_dict.update({key:value})\n",
    "        tab_dict.update(attrib_dict)\n",
    "        yield tab_dict"
   ]
  },
  {
   "cell_type": "markdown",
   "metadata": {},
   "source": [
    "### Load the XML files, convert to pandas data frames using the dict_fun function and save in the form of CSV"
   ]
  },
  {
   "cell_type": "code",
   "execution_count": 4,
   "metadata": {},
   "outputs": [],
   "source": [
    "for frame in ['Badges','Comments','PostHistory','PostLinks','Posts','Tags','Users','Votes']:\n",
    "    link = os.path.join(r'.\\Travel_stack_exchange',frame)  \n",
    "    tree = et.parse(link + '.xml')\n",
    "    root = tree.getroot()\n",
    "    tab_list = list(dict_fun(root))\n",
    "    df = pd.DataFrame(tab_list)\n",
    "    df = df.replace(r'\\\\n', ' ', regex=True)\n",
    "    df = df.replace(r'\\\\r', ' ', regex=True)\n",
    "    df.to_csv(link + \".csv\", sep=';', index=False)\n",
    "    df = pd.read_csv(link + \".csv\", sep=';')"
   ]
  },
  {
   "cell_type": "markdown",
   "metadata": {},
   "source": [
    "### Load data frames from CSV files\n",
    "Create separate data frames for each csv file. "
   ]
  },
  {
   "cell_type": "code",
   "execution_count": 5,
   "metadata": {},
   "outputs": [],
   "source": [
    "Badges_df = pd.read_csv(r'.\\Travel_stack_exchange\\Badges.csv', sep=';')\n",
    "Comments_df = pd.read_csv(r'.\\Travel_stack_exchange\\Comments.csv', sep=';')\n",
    "PostHistory_df = pd.read_csv(r'.\\Travel_stack_exchange\\PostHistory.csv', sep=';')\n",
    "PostLinks_df = pd.read_csv(r'.\\Travel_stack_exchange\\PostLinks.csv', sep=';')\n",
    "Posts_df = pd.read_csv(r'.\\Travel_stack_exchange\\Posts.csv', sep=';')\n",
    "Tags_df = pd.read_csv(r'.\\Travel_stack_exchange\\Tags.csv', sep=';')\n",
    "Users_df = pd.read_csv(r'.\\Travel_stack_exchange\\Users.csv', sep=';')\n",
    "Votes_df = pd.read_csv(r'.\\Travel_stack_exchange\\Votes.csv', sep=';')"
   ]
  },
  {
   "cell_type": "markdown",
   "metadata": {},
   "source": [
    "Check the info for Badges_df:"
   ]
  },
  {
   "cell_type": "code",
   "execution_count": 6,
   "metadata": {},
   "outputs": [
    {
     "name": "stdout",
     "output_type": "stream",
     "text": [
      "<class 'pandas.core.frame.DataFrame'>\n",
      "RangeIndex: 136869 entries, 0 to 136868\n",
      "Data columns (total 6 columns):\n",
      "Id          136869 non-null int64\n",
      "UserId      136869 non-null int64\n",
      "Name        136869 non-null object\n",
      "Date        136869 non-null object\n",
      "Class       136869 non-null int64\n",
      "TagBased    136869 non-null bool\n",
      "dtypes: bool(1), int64(3), object(2)\n",
      "memory usage: 5.4+ MB\n"
     ]
    }
   ],
   "source": [
    "Badges_df.info()"
   ]
  },
  {
   "cell_type": "markdown",
   "metadata": {},
   "source": [
    "We have almost 140k rows of data containing inforamtion about the user's Stack Exchange badges (examples: 'Supporter', 'Autobiographer', 'Teacher','Student', etc.)."
   ]
  },
  {
   "cell_type": "markdown",
   "metadata": {},
   "source": [
    "We want the column displaying dates in each data frame to be of the datetime type:"
   ]
  },
  {
   "cell_type": "code",
   "execution_count": 7,
   "metadata": {},
   "outputs": [
    {
     "data": {
      "text/html": [
       "<div>\n",
       "<style scoped>\n",
       "    .dataframe tbody tr th:only-of-type {\n",
       "        vertical-align: middle;\n",
       "    }\n",
       "\n",
       "    .dataframe tbody tr th {\n",
       "        vertical-align: top;\n",
       "    }\n",
       "\n",
       "    .dataframe thead th {\n",
       "        text-align: right;\n",
       "    }\n",
       "</style>\n",
       "<table border=\"1\" class=\"dataframe\">\n",
       "  <thead>\n",
       "    <tr style=\"text-align: right;\">\n",
       "      <th></th>\n",
       "      <th>Id</th>\n",
       "      <th>UserId</th>\n",
       "      <th>Name</th>\n",
       "      <th>Date</th>\n",
       "      <th>Class</th>\n",
       "      <th>TagBased</th>\n",
       "    </tr>\n",
       "  </thead>\n",
       "  <tbody>\n",
       "    <tr>\n",
       "      <th>0</th>\n",
       "      <td>1</td>\n",
       "      <td>2</td>\n",
       "      <td>Autobiographer</td>\n",
       "      <td>2011-06-21 20:16:48.910</td>\n",
       "      <td>3</td>\n",
       "      <td>False</td>\n",
       "    </tr>\n",
       "  </tbody>\n",
       "</table>\n",
       "</div>"
      ],
      "text/plain": [
       "   Id  UserId            Name                    Date  Class  TagBased\n",
       "0   1       2  Autobiographer 2011-06-21 20:16:48.910      3     False"
      ]
     },
     "execution_count": 7,
     "metadata": {},
     "output_type": "execute_result"
    }
   ],
   "source": [
    "Badges_df.Date = pd.to_datetime(Badges_df.Date)\n",
    "Badges_df.head(1)"
   ]
  },
  {
   "cell_type": "code",
   "execution_count": 8,
   "metadata": {},
   "outputs": [
    {
     "name": "stdout",
     "output_type": "stream",
     "text": [
      "<class 'pandas.core.frame.DataFrame'>\n",
      "RangeIndex: 136869 entries, 0 to 136868\n",
      "Data columns (total 6 columns):\n",
      "Id          136869 non-null int64\n",
      "UserId      136869 non-null int64\n",
      "Name        136869 non-null object\n",
      "Date        136869 non-null datetime64[ns]\n",
      "Class       136869 non-null int64\n",
      "TagBased    136869 non-null bool\n",
      "dtypes: bool(1), datetime64[ns](1), int64(3), object(1)\n",
      "memory usage: 5.4+ MB\n"
     ]
    }
   ],
   "source": [
    "Badges_df.info()"
   ]
  },
  {
   "cell_type": "code",
   "execution_count": 9,
   "metadata": {
    "scrolled": false
   },
   "outputs": [
    {
     "name": "stdout",
     "output_type": "stream",
     "text": [
      "<class 'pandas.core.frame.DataFrame'>\n",
      "RangeIndex: 193971 entries, 0 to 193970\n",
      "Data columns (total 7 columns):\n",
      "Id                 193971 non-null int64\n",
      "PostId             193971 non-null int64\n",
      "Score              193971 non-null int64\n",
      "Text               193971 non-null object\n",
      "CreationDate       193971 non-null datetime64[ns]\n",
      "UserId             190175 non-null float64\n",
      "UserDisplayName    4673 non-null object\n",
      "dtypes: datetime64[ns](1), float64(1), int64(3), object(2)\n",
      "memory usage: 10.4+ MB\n"
     ]
    }
   ],
   "source": [
    "Comments_df.CreationDate = pd.to_datetime(Comments_df.CreationDate)\n",
    "Comments_df.info()"
   ]
  },
  {
   "cell_type": "code",
   "execution_count": 10,
   "metadata": {},
   "outputs": [
    {
     "data": {
      "text/html": [
       "<div>\n",
       "<style scoped>\n",
       "    .dataframe tbody tr th:only-of-type {\n",
       "        vertical-align: middle;\n",
       "    }\n",
       "\n",
       "    .dataframe tbody tr th {\n",
       "        vertical-align: top;\n",
       "    }\n",
       "\n",
       "    .dataframe thead th {\n",
       "        text-align: right;\n",
       "    }\n",
       "</style>\n",
       "<table border=\"1\" class=\"dataframe\">\n",
       "  <thead>\n",
       "    <tr style=\"text-align: right;\">\n",
       "      <th></th>\n",
       "      <th>Id</th>\n",
       "      <th>PostId</th>\n",
       "      <th>Score</th>\n",
       "      <th>Text</th>\n",
       "      <th>CreationDate</th>\n",
       "      <th>UserId</th>\n",
       "      <th>UserDisplayName</th>\n",
       "    </tr>\n",
       "  </thead>\n",
       "  <tbody>\n",
       "    <tr>\n",
       "      <th>0</th>\n",
       "      <td>1</td>\n",
       "      <td>1</td>\n",
       "      <td>0</td>\n",
       "      <td>To help with the cruise line question: Where a...</td>\n",
       "      <td>2011-06-21 20:25:14.257</td>\n",
       "      <td>12.0</td>\n",
       "      <td>NaN</td>\n",
       "    </tr>\n",
       "  </tbody>\n",
       "</table>\n",
       "</div>"
      ],
      "text/plain": [
       "   Id  PostId  Score                                               Text  \\\n",
       "0   1       1      0  To help with the cruise line question: Where a...   \n",
       "\n",
       "             CreationDate  UserId UserDisplayName  \n",
       "0 2011-06-21 20:25:14.257    12.0             NaN  "
      ]
     },
     "execution_count": 10,
     "metadata": {},
     "output_type": "execute_result"
    }
   ],
   "source": [
    "Comments_df.head(1)"
   ]
  },
  {
   "cell_type": "code",
   "execution_count": 11,
   "metadata": {},
   "outputs": [
    {
     "name": "stdout",
     "output_type": "stream",
     "text": [
      "<class 'pandas.core.frame.DataFrame'>\n",
      "RangeIndex: 313310 entries, 0 to 313309\n",
      "Data columns (total 9 columns):\n",
      "Id                   313310 non-null int64\n",
      "PostHistoryTypeId    313310 non-null int64\n",
      "PostId               313310 non-null int64\n",
      "RevisionGUID         313310 non-null object\n",
      "CreationDate         313310 non-null datetime64[ns]\n",
      "UserId               281379 non-null float64\n",
      "Text                 278411 non-null object\n",
      "Comment              157666 non-null object\n",
      "UserDisplayName      6402 non-null object\n",
      "dtypes: datetime64[ns](1), float64(1), int64(3), object(4)\n",
      "memory usage: 21.5+ MB\n"
     ]
    }
   ],
   "source": [
    "PostHistory_df.CreationDate = pd.to_datetime(PostHistory_df.CreationDate)\n",
    "PostHistory_df.info()"
   ]
  },
  {
   "cell_type": "code",
   "execution_count": 12,
   "metadata": {},
   "outputs": [
    {
     "data": {
      "text/html": [
       "<div>\n",
       "<style scoped>\n",
       "    .dataframe tbody tr th:only-of-type {\n",
       "        vertical-align: middle;\n",
       "    }\n",
       "\n",
       "    .dataframe tbody tr th {\n",
       "        vertical-align: top;\n",
       "    }\n",
       "\n",
       "    .dataframe thead th {\n",
       "        text-align: right;\n",
       "    }\n",
       "</style>\n",
       "<table border=\"1\" class=\"dataframe\">\n",
       "  <thead>\n",
       "    <tr style=\"text-align: right;\">\n",
       "      <th></th>\n",
       "      <th>Id</th>\n",
       "      <th>PostHistoryTypeId</th>\n",
       "      <th>PostId</th>\n",
       "      <th>RevisionGUID</th>\n",
       "      <th>CreationDate</th>\n",
       "      <th>UserId</th>\n",
       "      <th>Text</th>\n",
       "      <th>Comment</th>\n",
       "      <th>UserDisplayName</th>\n",
       "    </tr>\n",
       "  </thead>\n",
       "  <tbody>\n",
       "    <tr>\n",
       "      <th>0</th>\n",
       "      <td>1</td>\n",
       "      <td>2</td>\n",
       "      <td>1</td>\n",
       "      <td>1e04af17-3bdb-4263-aa46-97ee7fb1b0b6</td>\n",
       "      <td>2011-06-21 20:19:34.730</td>\n",
       "      <td>9.0</td>\n",
       "      <td>My finance and myself are looking for a good C...</td>\n",
       "      <td>NaN</td>\n",
       "      <td>NaN</td>\n",
       "    </tr>\n",
       "  </tbody>\n",
       "</table>\n",
       "</div>"
      ],
      "text/plain": [
       "   Id  PostHistoryTypeId  PostId                          RevisionGUID  \\\n",
       "0   1                  2       1  1e04af17-3bdb-4263-aa46-97ee7fb1b0b6   \n",
       "\n",
       "             CreationDate  UserId  \\\n",
       "0 2011-06-21 20:19:34.730     9.0   \n",
       "\n",
       "                                                Text Comment UserDisplayName  \n",
       "0  My finance and myself are looking for a good C...     NaN             NaN  "
      ]
     },
     "execution_count": 12,
     "metadata": {},
     "output_type": "execute_result"
    }
   ],
   "source": [
    "PostHistory_df.head(1)"
   ]
  },
  {
   "cell_type": "code",
   "execution_count": 13,
   "metadata": {},
   "outputs": [
    {
     "name": "stdout",
     "output_type": "stream",
     "text": [
      "<class 'pandas.core.frame.DataFrame'>\n",
      "RangeIndex: 19812 entries, 0 to 19811\n",
      "Data columns (total 5 columns):\n",
      "Id               19812 non-null int64\n",
      "CreationDate     19812 non-null datetime64[ns]\n",
      "PostId           19812 non-null int64\n",
      "RelatedPostId    19812 non-null int64\n",
      "LinkTypeId       19812 non-null int64\n",
      "dtypes: datetime64[ns](1), int64(4)\n",
      "memory usage: 774.0 KB\n"
     ]
    }
   ],
   "source": [
    "PostLinks_df.CreationDate = pd.to_datetime(PostLinks_df.CreationDate)\n",
    "PostLinks_df.info()"
   ]
  },
  {
   "cell_type": "code",
   "execution_count": 14,
   "metadata": {},
   "outputs": [
    {
     "data": {
      "text/html": [
       "<div>\n",
       "<style scoped>\n",
       "    .dataframe tbody tr th:only-of-type {\n",
       "        vertical-align: middle;\n",
       "    }\n",
       "\n",
       "    .dataframe tbody tr th {\n",
       "        vertical-align: top;\n",
       "    }\n",
       "\n",
       "    .dataframe thead th {\n",
       "        text-align: right;\n",
       "    }\n",
       "</style>\n",
       "<table border=\"1\" class=\"dataframe\">\n",
       "  <thead>\n",
       "    <tr style=\"text-align: right;\">\n",
       "      <th></th>\n",
       "      <th>Id</th>\n",
       "      <th>CreationDate</th>\n",
       "      <th>PostId</th>\n",
       "      <th>RelatedPostId</th>\n",
       "      <th>LinkTypeId</th>\n",
       "    </tr>\n",
       "  </thead>\n",
       "  <tbody>\n",
       "    <tr>\n",
       "      <th>0</th>\n",
       "      <td>168</td>\n",
       "      <td>2011-06-21 20:49:19.747</td>\n",
       "      <td>28</td>\n",
       "      <td>25</td>\n",
       "      <td>1</td>\n",
       "    </tr>\n",
       "  </tbody>\n",
       "</table>\n",
       "</div>"
      ],
      "text/plain": [
       "    Id            CreationDate  PostId  RelatedPostId  LinkTypeId\n",
       "0  168 2011-06-21 20:49:19.747      28             25           1"
      ]
     },
     "execution_count": 14,
     "metadata": {},
     "output_type": "execute_result"
    }
   ],
   "source": [
    "PostLinks_df.head(1)"
   ]
  },
  {
   "cell_type": "markdown",
   "metadata": {},
   "source": [
    "The column 'DeletionDate' in Posts_df is missing, according to `meta.stackexchange.com/question/2677/database-schema-documentation-for-the-public-data-dump-and-sede\\` this column does not exist for the data dump. So the data frame is correct. "
   ]
  },
  {
   "cell_type": "code",
   "execution_count": 15,
   "metadata": {
    "scrolled": false
   },
   "outputs": [
    {
     "name": "stdout",
     "output_type": "stream",
     "text": [
      "<class 'pandas.core.frame.DataFrame'>\n",
      "RangeIndex: 87956 entries, 0 to 87955\n",
      "Data columns (total 21 columns):\n",
      "Id                       87956 non-null int64\n",
      "PostTypeId               87956 non-null int64\n",
      "AcceptedAnswerId         13490 non-null float64\n",
      "CreationDate             87956 non-null datetime64[ns]\n",
      "Score                    87956 non-null int64\n",
      "ViewCount                31843 non-null float64\n",
      "Body                     87659 non-null object\n",
      "OwnerUserId              85879 non-null float64\n",
      "LastEditorUserId         49424 non-null float64\n",
      "LastEditDate             50123 non-null datetime64[ns]\n",
      "LastActivityDate         87956 non-null datetime64[ns]\n",
      "Title                    31843 non-null object\n",
      "Tags                     31843 non-null object\n",
      "AnswerCount              31843 non-null float64\n",
      "CommentCount             87956 non-null int64\n",
      "ClosedDate               7215 non-null datetime64[ns]\n",
      "FavoriteCount            7664 non-null float64\n",
      "ParentId                 52013 non-null float64\n",
      "LastEditorDisplayName    1238 non-null object\n",
      "CommunityOwnedDate       290 non-null datetime64[ns]\n",
      "OwnerDisplayName         2613 non-null object\n",
      "dtypes: datetime64[ns](5), float64(7), int64(4), object(5)\n",
      "memory usage: 14.1+ MB\n"
     ]
    }
   ],
   "source": [
    "Posts_df.ClosedDate = pd.to_datetime(Posts_df.ClosedDate)\n",
    "Posts_df.CommunityOwnedDate = pd.to_datetime(Posts_df.CommunityOwnedDate)\n",
    "Posts_df.CreationDate = pd.to_datetime(Posts_df.CreationDate)\n",
    "Posts_df.LastActivityDate = pd.to_datetime(Posts_df.LastActivityDate)\n",
    "Posts_df.LastEditDate = pd.to_datetime(Posts_df.LastEditDate)\n",
    "Posts_df.info()"
   ]
  },
  {
   "cell_type": "code",
   "execution_count": 16,
   "metadata": {},
   "outputs": [
    {
     "data": {
      "text/html": [
       "<div>\n",
       "<style scoped>\n",
       "    .dataframe tbody tr th:only-of-type {\n",
       "        vertical-align: middle;\n",
       "    }\n",
       "\n",
       "    .dataframe tbody tr th {\n",
       "        vertical-align: top;\n",
       "    }\n",
       "\n",
       "    .dataframe thead th {\n",
       "        text-align: right;\n",
       "    }\n",
       "</style>\n",
       "<table border=\"1\" class=\"dataframe\">\n",
       "  <thead>\n",
       "    <tr style=\"text-align: right;\">\n",
       "      <th></th>\n",
       "      <th>Id</th>\n",
       "      <th>PostTypeId</th>\n",
       "      <th>AcceptedAnswerId</th>\n",
       "      <th>CreationDate</th>\n",
       "      <th>Score</th>\n",
       "      <th>ViewCount</th>\n",
       "      <th>Body</th>\n",
       "      <th>OwnerUserId</th>\n",
       "      <th>LastEditorUserId</th>\n",
       "      <th>LastEditDate</th>\n",
       "      <th>...</th>\n",
       "      <th>Title</th>\n",
       "      <th>Tags</th>\n",
       "      <th>AnswerCount</th>\n",
       "      <th>CommentCount</th>\n",
       "      <th>ClosedDate</th>\n",
       "      <th>FavoriteCount</th>\n",
       "      <th>ParentId</th>\n",
       "      <th>LastEditorDisplayName</th>\n",
       "      <th>CommunityOwnedDate</th>\n",
       "      <th>OwnerDisplayName</th>\n",
       "    </tr>\n",
       "  </thead>\n",
       "  <tbody>\n",
       "    <tr>\n",
       "      <th>0</th>\n",
       "      <td>1</td>\n",
       "      <td>1</td>\n",
       "      <td>393.0</td>\n",
       "      <td>2011-06-21 20:19:34.730</td>\n",
       "      <td>8</td>\n",
       "      <td>443.0</td>\n",
       "      <td>&lt;p&gt;My fiancée and I are looking for a good Car...</td>\n",
       "      <td>9.0</td>\n",
       "      <td>101.0</td>\n",
       "      <td>2011-12-28 21:36:43.910</td>\n",
       "      <td>...</td>\n",
       "      <td>What are some Caribbean cruises for October?</td>\n",
       "      <td>&lt;caribbean&gt;&lt;cruising&gt;&lt;vacations&gt;</td>\n",
       "      <td>4.0</td>\n",
       "      <td>4</td>\n",
       "      <td>2013-02-25 23:52:47.953</td>\n",
       "      <td>NaN</td>\n",
       "      <td>NaN</td>\n",
       "      <td>NaN</td>\n",
       "      <td>NaT</td>\n",
       "      <td>NaN</td>\n",
       "    </tr>\n",
       "  </tbody>\n",
       "</table>\n",
       "<p>1 rows × 21 columns</p>\n",
       "</div>"
      ],
      "text/plain": [
       "   Id  PostTypeId  AcceptedAnswerId            CreationDate  Score  ViewCount  \\\n",
       "0   1           1             393.0 2011-06-21 20:19:34.730      8      443.0   \n",
       "\n",
       "                                                Body  OwnerUserId  \\\n",
       "0  <p>My fiancée and I are looking for a good Car...          9.0   \n",
       "\n",
       "   LastEditorUserId            LastEditDate  ...  \\\n",
       "0             101.0 2011-12-28 21:36:43.910  ...   \n",
       "\n",
       "                                          Title  \\\n",
       "0  What are some Caribbean cruises for October?   \n",
       "\n",
       "                               Tags AnswerCount  CommentCount  \\\n",
       "0  <caribbean><cruising><vacations>         4.0             4   \n",
       "\n",
       "               ClosedDate FavoriteCount  ParentId  LastEditorDisplayName  \\\n",
       "0 2013-02-25 23:52:47.953           NaN       NaN                    NaN   \n",
       "\n",
       "  CommunityOwnedDate OwnerDisplayName  \n",
       "0                NaT              NaN  \n",
       "\n",
       "[1 rows x 21 columns]"
      ]
     },
     "execution_count": 16,
     "metadata": {},
     "output_type": "execute_result"
    }
   ],
   "source": [
    "Posts_df.head(1)"
   ]
  },
  {
   "cell_type": "code",
   "execution_count": 17,
   "metadata": {},
   "outputs": [
    {
     "name": "stdout",
     "output_type": "stream",
     "text": [
      "<class 'pandas.core.frame.DataFrame'>\n",
      "RangeIndex: 1784 entries, 0 to 1783\n",
      "Data columns (total 5 columns):\n",
      "Id               1784 non-null int64\n",
      "TagName          1784 non-null object\n",
      "Count            1784 non-null int64\n",
      "ExcerptPostId    1714 non-null float64\n",
      "WikiPostId       1714 non-null float64\n",
      "dtypes: float64(2), int64(2), object(1)\n",
      "memory usage: 69.8+ KB\n"
     ]
    }
   ],
   "source": [
    "Tags_df.info()"
   ]
  },
  {
   "cell_type": "code",
   "execution_count": 18,
   "metadata": {},
   "outputs": [
    {
     "data": {
      "text/html": [
       "<div>\n",
       "<style scoped>\n",
       "    .dataframe tbody tr th:only-of-type {\n",
       "        vertical-align: middle;\n",
       "    }\n",
       "\n",
       "    .dataframe tbody tr th {\n",
       "        vertical-align: top;\n",
       "    }\n",
       "\n",
       "    .dataframe thead th {\n",
       "        text-align: right;\n",
       "    }\n",
       "</style>\n",
       "<table border=\"1\" class=\"dataframe\">\n",
       "  <thead>\n",
       "    <tr style=\"text-align: right;\">\n",
       "      <th></th>\n",
       "      <th>Id</th>\n",
       "      <th>TagName</th>\n",
       "      <th>Count</th>\n",
       "      <th>ExcerptPostId</th>\n",
       "      <th>WikiPostId</th>\n",
       "    </tr>\n",
       "  </thead>\n",
       "  <tbody>\n",
       "    <tr>\n",
       "      <th>0</th>\n",
       "      <td>1</td>\n",
       "      <td>cruising</td>\n",
       "      <td>116</td>\n",
       "      <td>2138.0</td>\n",
       "      <td>2137.0</td>\n",
       "    </tr>\n",
       "  </tbody>\n",
       "</table>\n",
       "</div>"
      ],
      "text/plain": [
       "   Id   TagName  Count  ExcerptPostId  WikiPostId\n",
       "0   1  cruising    116         2138.0      2137.0"
      ]
     },
     "execution_count": 18,
     "metadata": {},
     "output_type": "execute_result"
    }
   ],
   "source": [
    "Tags_df.head(1)"
   ]
  },
  {
   "cell_type": "code",
   "execution_count": 19,
   "metadata": {},
   "outputs": [
    {
     "name": "stdout",
     "output_type": "stream",
     "text": [
      "<class 'pandas.core.frame.DataFrame'>\n",
      "RangeIndex: 59328 entries, 0 to 59327\n",
      "Data columns (total 13 columns):\n",
      "Id                 59328 non-null int64\n",
      "Reputation         59328 non-null int64\n",
      "CreationDate       59328 non-null datetime64[ns]\n",
      "DisplayName        59325 non-null object\n",
      "LastAccessDate     59328 non-null datetime64[ns]\n",
      "WebsiteUrl         11751 non-null object\n",
      "Location           20000 non-null object\n",
      "AboutMe            16928 non-null object\n",
      "Views              59328 non-null int64\n",
      "UpVotes            59328 non-null int64\n",
      "DownVotes          59328 non-null int64\n",
      "AccountId          59325 non-null float64\n",
      "ProfileImageUrl    38425 non-null object\n",
      "dtypes: datetime64[ns](2), float64(1), int64(5), object(5)\n",
      "memory usage: 5.9+ MB\n"
     ]
    }
   ],
   "source": [
    "Users_df.CreationDate = pd.to_datetime(Users_df.CreationDate)\n",
    "Users_df.LastAccessDate = pd.to_datetime(Users_df.LastAccessDate)\n",
    "Users_df.info()"
   ]
  },
  {
   "cell_type": "code",
   "execution_count": 20,
   "metadata": {
    "scrolled": true
   },
   "outputs": [
    {
     "data": {
      "text/html": [
       "<div>\n",
       "<style scoped>\n",
       "    .dataframe tbody tr th:only-of-type {\n",
       "        vertical-align: middle;\n",
       "    }\n",
       "\n",
       "    .dataframe tbody tr th {\n",
       "        vertical-align: top;\n",
       "    }\n",
       "\n",
       "    .dataframe thead th {\n",
       "        text-align: right;\n",
       "    }\n",
       "</style>\n",
       "<table border=\"1\" class=\"dataframe\">\n",
       "  <thead>\n",
       "    <tr style=\"text-align: right;\">\n",
       "      <th></th>\n",
       "      <th>Id</th>\n",
       "      <th>Reputation</th>\n",
       "      <th>CreationDate</th>\n",
       "      <th>DisplayName</th>\n",
       "      <th>LastAccessDate</th>\n",
       "      <th>WebsiteUrl</th>\n",
       "      <th>Location</th>\n",
       "      <th>AboutMe</th>\n",
       "      <th>Views</th>\n",
       "      <th>UpVotes</th>\n",
       "      <th>DownVotes</th>\n",
       "      <th>AccountId</th>\n",
       "      <th>ProfileImageUrl</th>\n",
       "    </tr>\n",
       "  </thead>\n",
       "  <tbody>\n",
       "    <tr>\n",
       "      <th>0</th>\n",
       "      <td>-1</td>\n",
       "      <td>1</td>\n",
       "      <td>2011-06-21 15:16:44.253</td>\n",
       "      <td>Community</td>\n",
       "      <td>2011-06-21 15:16:44.253</td>\n",
       "      <td>http://meta.stackexchange.com/</td>\n",
       "      <td>on the server farm</td>\n",
       "      <td>&lt;p&gt;Hi, I'm not really a person.&lt;/p&gt;\\n\\n&lt;p&gt;I'm ...</td>\n",
       "      <td>0</td>\n",
       "      <td>3160</td>\n",
       "      <td>16235</td>\n",
       "      <td>-1.0</td>\n",
       "      <td>NaN</td>\n",
       "    </tr>\n",
       "  </tbody>\n",
       "</table>\n",
       "</div>"
      ],
      "text/plain": [
       "   Id  Reputation            CreationDate DisplayName          LastAccessDate  \\\n",
       "0  -1           1 2011-06-21 15:16:44.253   Community 2011-06-21 15:16:44.253   \n",
       "\n",
       "                       WebsiteUrl            Location  \\\n",
       "0  http://meta.stackexchange.com/  on the server farm   \n",
       "\n",
       "                                             AboutMe  Views  UpVotes  \\\n",
       "0  <p>Hi, I'm not really a person.</p>\\n\\n<p>I'm ...      0     3160   \n",
       "\n",
       "   DownVotes  AccountId ProfileImageUrl  \n",
       "0      16235       -1.0             NaN  "
      ]
     },
     "execution_count": 20,
     "metadata": {},
     "output_type": "execute_result"
    }
   ],
   "source": [
    "Users_df.head(1)"
   ]
  },
  {
   "cell_type": "code",
   "execution_count": 21,
   "metadata": {},
   "outputs": [
    {
     "name": "stdout",
     "output_type": "stream",
     "text": [
      "<class 'pandas.core.frame.DataFrame'>\n",
      "RangeIndex: 698143 entries, 0 to 698142\n",
      "Data columns (total 6 columns):\n",
      "Id              698143 non-null int64\n",
      "PostId          698143 non-null int64\n",
      "VoteTypeId      698143 non-null int64\n",
      "CreationDate    698143 non-null datetime64[ns]\n",
      "UserId          15483 non-null float64\n",
      "BountyAmount    2633 non-null float64\n",
      "dtypes: datetime64[ns](1), float64(2), int64(3)\n",
      "memory usage: 32.0 MB\n"
     ]
    }
   ],
   "source": [
    "Votes_df.CreationDate = pd.to_datetime(Votes_df.CreationDate)\n",
    "Votes_df.info()"
   ]
  },
  {
   "cell_type": "code",
   "execution_count": 22,
   "metadata": {},
   "outputs": [
    {
     "data": {
      "text/html": [
       "<div>\n",
       "<style scoped>\n",
       "    .dataframe tbody tr th:only-of-type {\n",
       "        vertical-align: middle;\n",
       "    }\n",
       "\n",
       "    .dataframe tbody tr th {\n",
       "        vertical-align: top;\n",
       "    }\n",
       "\n",
       "    .dataframe thead th {\n",
       "        text-align: right;\n",
       "    }\n",
       "</style>\n",
       "<table border=\"1\" class=\"dataframe\">\n",
       "  <thead>\n",
       "    <tr style=\"text-align: right;\">\n",
       "      <th></th>\n",
       "      <th>Id</th>\n",
       "      <th>PostId</th>\n",
       "      <th>VoteTypeId</th>\n",
       "      <th>CreationDate</th>\n",
       "      <th>UserId</th>\n",
       "      <th>BountyAmount</th>\n",
       "    </tr>\n",
       "  </thead>\n",
       "  <tbody>\n",
       "    <tr>\n",
       "      <th>0</th>\n",
       "      <td>1</td>\n",
       "      <td>1</td>\n",
       "      <td>2</td>\n",
       "      <td>2011-06-21</td>\n",
       "      <td>NaN</td>\n",
       "      <td>NaN</td>\n",
       "    </tr>\n",
       "  </tbody>\n",
       "</table>\n",
       "</div>"
      ],
      "text/plain": [
       "   Id  PostId  VoteTypeId CreationDate  UserId  BountyAmount\n",
       "0   1       1           2   2011-06-21     NaN           NaN"
      ]
     },
     "execution_count": 22,
     "metadata": {},
     "output_type": "execute_result"
    }
   ],
   "source": [
    "Votes_df.head(1)"
   ]
  },
  {
   "cell_type": "markdown",
   "metadata": {},
   "source": [
    "All data frames are in accordance with `meta.stackexchange.com/question/2677/database-schema-documentation-for-the-public-data-dump-and-sede`."
   ]
  },
  {
   "cell_type": "markdown",
   "metadata": {},
   "source": [
    "##  2. SQL Queries\n",
    "\n",
    "Now we load the CSV files into the SQLite database. Let's use the pandas package to generate answers to six interesting queries. All data frames were exported to the SQLite database and the results generated by SQL queries were compared with those generated by the pandas."
   ]
  },
  {
   "cell_type": "markdown",
   "metadata": {},
   "source": [
    "We connect to the SQLite3 database and insert the data frames into the database \"database_travel.db\"."
   ]
  },
  {
   "cell_type": "code",
   "execution_count": 23,
   "metadata": {},
   "outputs": [],
   "source": [
    "import sqlite3\n",
    "conn = sqlite3.connect(\".\\database_travel.db\")\n",
    "Badges_df.to_sql(\"Badges\", conn)\n",
    "Comments_df.to_sql(\"Comments\", conn)\n",
    "PostHistory_df.to_sql(\"PostHistory\", conn)\n",
    "PostLinks_df.to_sql(\"PostLinks\", conn)\n",
    "Posts_df.to_sql(\"Posts\", conn)\n",
    "Tags_df.to_sql(\"Tags\", conn)\n",
    "Users_df.to_sql(\"Users\", conn)\n",
    "Votes_df.to_sql(\"Votes\", conn)"
   ]
  },
  {
   "cell_type": "markdown",
   "metadata": {},
   "source": [
    "Let's look for the ten most popular tags created by single regular Stack Exchange user: "
   ]
  },
  {
   "cell_type": "code",
   "execution_count": 24,
   "metadata": {},
   "outputs": [
    {
     "data": {
      "text/html": [
       "<div>\n",
       "<style scoped>\n",
       "    .dataframe tbody tr th:only-of-type {\n",
       "        vertical-align: middle;\n",
       "    }\n",
       "\n",
       "    .dataframe tbody tr th {\n",
       "        vertical-align: top;\n",
       "    }\n",
       "\n",
       "    .dataframe thead th {\n",
       "        text-align: right;\n",
       "    }\n",
       "</style>\n",
       "<table border=\"1\" class=\"dataframe\">\n",
       "  <thead>\n",
       "    <tr style=\"text-align: right;\">\n",
       "      <th></th>\n",
       "      <th>TagName</th>\n",
       "      <th>Count</th>\n",
       "      <th>OwnerUserId</th>\n",
       "      <th>Location</th>\n",
       "      <th>DisplayName</th>\n",
       "    </tr>\n",
       "  </thead>\n",
       "  <tbody>\n",
       "    <tr>\n",
       "      <th>0</th>\n",
       "      <td>usa</td>\n",
       "      <td>3647</td>\n",
       "      <td>26.0</td>\n",
       "      <td>Oxford, United Kingdom</td>\n",
       "      <td>Gagravarr</td>\n",
       "    </tr>\n",
       "    <tr>\n",
       "      <th>1</th>\n",
       "      <td>uk</td>\n",
       "      <td>3008</td>\n",
       "      <td>26.0</td>\n",
       "      <td>Oxford, United Kingdom</td>\n",
       "      <td>Gagravarr</td>\n",
       "    </tr>\n",
       "    <tr>\n",
       "      <th>2</th>\n",
       "      <td>schengen</td>\n",
       "      <td>2711</td>\n",
       "      <td>140.0</td>\n",
       "      <td>Oaxaca, Mexico</td>\n",
       "      <td>hippietrail</td>\n",
       "    </tr>\n",
       "    <tr>\n",
       "      <th>3</th>\n",
       "      <td>customs-and-immigration</td>\n",
       "      <td>2430</td>\n",
       "      <td>108.0</td>\n",
       "      <td>London, UK</td>\n",
       "      <td>Ankur Banerjee</td>\n",
       "    </tr>\n",
       "    <tr>\n",
       "      <th>4</th>\n",
       "      <td>transit</td>\n",
       "      <td>1551</td>\n",
       "      <td>4171.0</td>\n",
       "      <td>Giv'at Shmuel, Israel</td>\n",
       "      <td>Ari Brodsky</td>\n",
       "    </tr>\n",
       "    <tr>\n",
       "      <th>5</th>\n",
       "      <td>trains</td>\n",
       "      <td>1219</td>\n",
       "      <td>26.0</td>\n",
       "      <td>Oxford, United Kingdom</td>\n",
       "      <td>Gagravarr</td>\n",
       "    </tr>\n",
       "    <tr>\n",
       "      <th>6</th>\n",
       "      <td>passports</td>\n",
       "      <td>1198</td>\n",
       "      <td>1375.0</td>\n",
       "      <td>Kuwait</td>\n",
       "      <td>Burhan Khalid</td>\n",
       "    </tr>\n",
       "    <tr>\n",
       "      <th>7</th>\n",
       "      <td>indian-citizens</td>\n",
       "      <td>1190</td>\n",
       "      <td>140.0</td>\n",
       "      <td>Oaxaca, Mexico</td>\n",
       "      <td>hippietrail</td>\n",
       "    </tr>\n",
       "    <tr>\n",
       "      <th>8</th>\n",
       "      <td>canada</td>\n",
       "      <td>1019</td>\n",
       "      <td>101.0</td>\n",
       "      <td>Sydney, New South Wales, Australia</td>\n",
       "      <td>Mark Mayo</td>\n",
       "    </tr>\n",
       "    <tr>\n",
       "      <th>9</th>\n",
       "      <td>luggage</td>\n",
       "      <td>1004</td>\n",
       "      <td>4995.0</td>\n",
       "      <td>None</td>\n",
       "      <td>pnuts</td>\n",
       "    </tr>\n",
       "  </tbody>\n",
       "</table>\n",
       "</div>"
      ],
      "text/plain": [
       "                   TagName  Count  OwnerUserId  \\\n",
       "0                      usa   3647         26.0   \n",
       "1                       uk   3008         26.0   \n",
       "2                 schengen   2711        140.0   \n",
       "3  customs-and-immigration   2430        108.0   \n",
       "4                  transit   1551       4171.0   \n",
       "5                   trains   1219         26.0   \n",
       "6                passports   1198       1375.0   \n",
       "7          indian-citizens   1190        140.0   \n",
       "8                   canada   1019        101.0   \n",
       "9                  luggage   1004       4995.0   \n",
       "\n",
       "                             Location     DisplayName  \n",
       "0              Oxford, United Kingdom       Gagravarr  \n",
       "1              Oxford, United Kingdom       Gagravarr  \n",
       "2                      Oaxaca, Mexico     hippietrail  \n",
       "3                          London, UK  Ankur Banerjee  \n",
       "4               Giv'at Shmuel, Israel     Ari Brodsky  \n",
       "5              Oxford, United Kingdom       Gagravarr  \n",
       "6                              Kuwait   Burhan Khalid  \n",
       "7                      Oaxaca, Mexico     hippietrail  \n",
       "8  Sydney, New South Wales, Australia       Mark Mayo  \n",
       "9                                None           pnuts  "
      ]
     },
     "execution_count": 24,
     "metadata": {},
     "output_type": "execute_result"
    }
   ],
   "source": [
    "pd.read_sql_query(\"\"\"\n",
    "SELECT\n",
    "    Tags.TagName,\n",
    "    Tags.Count,\n",
    "    Posts.OwnerUserId,\n",
    "    Users.Location,\n",
    "    Users.DisplayName\n",
    "FROM Tags\n",
    "JOIN Posts ON Posts.Id=Tags.WikiPostId\n",
    "JOIN Users ON Users.Id=Posts.OwnerUserId\n",
    "WHERE OwnerUserId != -1\n",
    "ORDER BY Count DESC\n",
    "LIMIT 10\n",
    "\"\"\", conn)"
   ]
  },
  {
   "cell_type": "markdown",
   "metadata": {},
   "source": [
    "The same results can obtained with a different method:"
   ]
  },
  {
   "cell_type": "code",
   "execution_count": 25,
   "metadata": {},
   "outputs": [
    {
     "data": {
      "text/html": [
       "<div>\n",
       "<style scoped>\n",
       "    .dataframe tbody tr th:only-of-type {\n",
       "        vertical-align: middle;\n",
       "    }\n",
       "\n",
       "    .dataframe tbody tr th {\n",
       "        vertical-align: top;\n",
       "    }\n",
       "\n",
       "    .dataframe thead th {\n",
       "        text-align: right;\n",
       "    }\n",
       "</style>\n",
       "<table border=\"1\" class=\"dataframe\">\n",
       "  <thead>\n",
       "    <tr style=\"text-align: right;\">\n",
       "      <th></th>\n",
       "      <th>TagName</th>\n",
       "      <th>Count</th>\n",
       "      <th>OwnerUserId</th>\n",
       "      <th>Location</th>\n",
       "      <th>DisplayName</th>\n",
       "    </tr>\n",
       "  </thead>\n",
       "  <tbody>\n",
       "    <tr>\n",
       "      <th>0</th>\n",
       "      <td>usa</td>\n",
       "      <td>3647</td>\n",
       "      <td>26.0</td>\n",
       "      <td>Oxford, United Kingdom</td>\n",
       "      <td>Gagravarr</td>\n",
       "    </tr>\n",
       "    <tr>\n",
       "      <th>1</th>\n",
       "      <td>uk</td>\n",
       "      <td>3008</td>\n",
       "      <td>26.0</td>\n",
       "      <td>Oxford, United Kingdom</td>\n",
       "      <td>Gagravarr</td>\n",
       "    </tr>\n",
       "    <tr>\n",
       "      <th>2</th>\n",
       "      <td>schengen</td>\n",
       "      <td>2711</td>\n",
       "      <td>140.0</td>\n",
       "      <td>Oaxaca, Mexico</td>\n",
       "      <td>hippietrail</td>\n",
       "    </tr>\n",
       "    <tr>\n",
       "      <th>3</th>\n",
       "      <td>customs-and-immigration</td>\n",
       "      <td>2430</td>\n",
       "      <td>108.0</td>\n",
       "      <td>London, UK</td>\n",
       "      <td>Ankur Banerjee</td>\n",
       "    </tr>\n",
       "    <tr>\n",
       "      <th>4</th>\n",
       "      <td>transit</td>\n",
       "      <td>1551</td>\n",
       "      <td>4171.0</td>\n",
       "      <td>Giv'at Shmuel, Israel</td>\n",
       "      <td>Ari Brodsky</td>\n",
       "    </tr>\n",
       "    <tr>\n",
       "      <th>5</th>\n",
       "      <td>trains</td>\n",
       "      <td>1219</td>\n",
       "      <td>26.0</td>\n",
       "      <td>Oxford, United Kingdom</td>\n",
       "      <td>Gagravarr</td>\n",
       "    </tr>\n",
       "    <tr>\n",
       "      <th>6</th>\n",
       "      <td>passports</td>\n",
       "      <td>1198</td>\n",
       "      <td>1375.0</td>\n",
       "      <td>Kuwait</td>\n",
       "      <td>Burhan Khalid</td>\n",
       "    </tr>\n",
       "    <tr>\n",
       "      <th>7</th>\n",
       "      <td>indian-citizens</td>\n",
       "      <td>1190</td>\n",
       "      <td>140.0</td>\n",
       "      <td>Oaxaca, Mexico</td>\n",
       "      <td>hippietrail</td>\n",
       "    </tr>\n",
       "    <tr>\n",
       "      <th>8</th>\n",
       "      <td>canada</td>\n",
       "      <td>1019</td>\n",
       "      <td>101.0</td>\n",
       "      <td>Sydney, New South Wales, Australia</td>\n",
       "      <td>Mark Mayo</td>\n",
       "    </tr>\n",
       "    <tr>\n",
       "      <th>9</th>\n",
       "      <td>luggage</td>\n",
       "      <td>1004</td>\n",
       "      <td>4995.0</td>\n",
       "      <td>NaN</td>\n",
       "      <td>pnuts</td>\n",
       "    </tr>\n",
       "  </tbody>\n",
       "</table>\n",
       "</div>"
      ],
      "text/plain": [
       "                   TagName  Count  OwnerUserId  \\\n",
       "0                      usa   3647         26.0   \n",
       "1                       uk   3008         26.0   \n",
       "2                 schengen   2711        140.0   \n",
       "3  customs-and-immigration   2430        108.0   \n",
       "4                  transit   1551       4171.0   \n",
       "5                   trains   1219         26.0   \n",
       "6                passports   1198       1375.0   \n",
       "7          indian-citizens   1190        140.0   \n",
       "8                   canada   1019        101.0   \n",
       "9                  luggage   1004       4995.0   \n",
       "\n",
       "                             Location     DisplayName  \n",
       "0              Oxford, United Kingdom       Gagravarr  \n",
       "1              Oxford, United Kingdom       Gagravarr  \n",
       "2                      Oaxaca, Mexico     hippietrail  \n",
       "3                          London, UK  Ankur Banerjee  \n",
       "4               Giv'at Shmuel, Israel     Ari Brodsky  \n",
       "5              Oxford, United Kingdom       Gagravarr  \n",
       "6                              Kuwait   Burhan Khalid  \n",
       "7                      Oaxaca, Mexico     hippietrail  \n",
       "8  Sydney, New South Wales, Australia       Mark Mayo  \n",
       "9                                 NaN           pnuts  "
      ]
     },
     "execution_count": 25,
     "metadata": {},
     "output_type": "execute_result"
    }
   ],
   "source": [
    "Tags_df.merge(Posts_df, left_on=\"WikiPostId\", right_on=\"Id\"\n",
    "             ).merge(Users_df, left_on=\"OwnerUserId\", right_on=\"Id\"\n",
    "             ).loc[:,[\"TagName\",\"Count\",\"OwnerUserId\",\"Location\",\"DisplayName\"]].sort_values(\"Count\", ascending=False\n",
    "             ).query('OwnerUserId != -1 and OwnerUserId == OwnerUserId').reset_index(drop=True).head(10)"
   ]
  },
  {
   "cell_type": "markdown",
   "metadata": {},
   "source": [
    "There are over 3 thousands uses of tags `usa` and `uk` both by the same user with the DispalyName 'Gagravarr'. Another popular tags are `schengen` and `customs-and-immigration`. "
   ]
  },
  {
   "cell_type": "markdown",
   "metadata": {},
   "source": [
    "How many up-votes does each post have? But we ignore the Posts.Score column in this query:"
   ]
  },
  {
   "cell_type": "code",
   "execution_count": 26,
   "metadata": {},
   "outputs": [
    {
     "data": {
      "text/html": [
       "<div>\n",
       "<style scoped>\n",
       "    .dataframe tbody tr th:only-of-type {\n",
       "        vertical-align: middle;\n",
       "    }\n",
       "\n",
       "    .dataframe tbody tr th {\n",
       "        vertical-align: top;\n",
       "    }\n",
       "\n",
       "    .dataframe thead th {\n",
       "        text-align: right;\n",
       "    }\n",
       "</style>\n",
       "<table border=\"1\" class=\"dataframe\">\n",
       "  <thead>\n",
       "    <tr style=\"text-align: right;\">\n",
       "      <th></th>\n",
       "      <th>PostId</th>\n",
       "      <th>UpVotes</th>\n",
       "    </tr>\n",
       "  </thead>\n",
       "  <tbody>\n",
       "    <tr>\n",
       "      <th>0</th>\n",
       "      <td>1</td>\n",
       "      <td>10</td>\n",
       "    </tr>\n",
       "    <tr>\n",
       "      <th>1</th>\n",
       "      <td>2</td>\n",
       "      <td>36</td>\n",
       "    </tr>\n",
       "    <tr>\n",
       "      <th>2</th>\n",
       "      <td>3</td>\n",
       "      <td>15</td>\n",
       "    </tr>\n",
       "    <tr>\n",
       "      <th>3</th>\n",
       "      <td>4</td>\n",
       "      <td>9</td>\n",
       "    </tr>\n",
       "    <tr>\n",
       "      <th>4</th>\n",
       "      <td>5</td>\n",
       "      <td>13</td>\n",
       "    </tr>\n",
       "    <tr>\n",
       "      <th>...</th>\n",
       "      <td>...</td>\n",
       "      <td>...</td>\n",
       "    </tr>\n",
       "    <tr>\n",
       "      <th>84227</th>\n",
       "      <td>121652</td>\n",
       "      <td>3</td>\n",
       "    </tr>\n",
       "    <tr>\n",
       "      <th>84228</th>\n",
       "      <td>121653</td>\n",
       "      <td>1</td>\n",
       "    </tr>\n",
       "    <tr>\n",
       "      <th>84229</th>\n",
       "      <td>121655</td>\n",
       "      <td>1</td>\n",
       "    </tr>\n",
       "    <tr>\n",
       "      <th>84230</th>\n",
       "      <td>121656</td>\n",
       "      <td>1</td>\n",
       "    </tr>\n",
       "    <tr>\n",
       "      <th>84231</th>\n",
       "      <td>121657</td>\n",
       "      <td>2</td>\n",
       "    </tr>\n",
       "  </tbody>\n",
       "</table>\n",
       "<p>84232 rows × 2 columns</p>\n",
       "</div>"
      ],
      "text/plain": [
       "       PostId  UpVotes\n",
       "0           1       10\n",
       "1           2       36\n",
       "2           3       15\n",
       "3           4        9\n",
       "4           5       13\n",
       "...       ...      ...\n",
       "84227  121652        3\n",
       "84228  121653        1\n",
       "84229  121655        1\n",
       "84230  121656        1\n",
       "84231  121657        2\n",
       "\n",
       "[84232 rows x 2 columns]"
      ]
     },
     "execution_count": 26,
     "metadata": {},
     "output_type": "execute_result"
    }
   ],
   "source": [
    "pd.read_sql_query(\"\"\"\n",
    "SELECT\n",
    "PostId,\n",
    "COUNT(*) AS UpVotes\n",
    "FROM Votes\n",
    "WHERE VoteTypeId=2\n",
    "GROUP BY PostId\n",
    "\"\"\", conn)"
   ]
  },
  {
   "cell_type": "markdown",
   "metadata": {},
   "source": [
    "The same results can obtained with a pandas method:"
   ]
  },
  {
   "cell_type": "code",
   "execution_count": 27,
   "metadata": {},
   "outputs": [
    {
     "data": {
      "text/html": [
       "<div>\n",
       "<style scoped>\n",
       "    .dataframe tbody tr th:only-of-type {\n",
       "        vertical-align: middle;\n",
       "    }\n",
       "\n",
       "    .dataframe tbody tr th {\n",
       "        vertical-align: top;\n",
       "    }\n",
       "\n",
       "    .dataframe thead th {\n",
       "        text-align: right;\n",
       "    }\n",
       "</style>\n",
       "<table border=\"1\" class=\"dataframe\">\n",
       "  <thead>\n",
       "    <tr style=\"text-align: right;\">\n",
       "      <th></th>\n",
       "      <th>PostId</th>\n",
       "      <th>UpVotes</th>\n",
       "    </tr>\n",
       "  </thead>\n",
       "  <tbody>\n",
       "    <tr>\n",
       "      <th>0</th>\n",
       "      <td>1</td>\n",
       "      <td>10</td>\n",
       "    </tr>\n",
       "    <tr>\n",
       "      <th>1</th>\n",
       "      <td>2</td>\n",
       "      <td>36</td>\n",
       "    </tr>\n",
       "    <tr>\n",
       "      <th>2</th>\n",
       "      <td>3</td>\n",
       "      <td>15</td>\n",
       "    </tr>\n",
       "    <tr>\n",
       "      <th>3</th>\n",
       "      <td>4</td>\n",
       "      <td>9</td>\n",
       "    </tr>\n",
       "    <tr>\n",
       "      <th>4</th>\n",
       "      <td>5</td>\n",
       "      <td>13</td>\n",
       "    </tr>\n",
       "    <tr>\n",
       "      <th>...</th>\n",
       "      <td>...</td>\n",
       "      <td>...</td>\n",
       "    </tr>\n",
       "    <tr>\n",
       "      <th>84227</th>\n",
       "      <td>121652</td>\n",
       "      <td>3</td>\n",
       "    </tr>\n",
       "    <tr>\n",
       "      <th>84228</th>\n",
       "      <td>121653</td>\n",
       "      <td>1</td>\n",
       "    </tr>\n",
       "    <tr>\n",
       "      <th>84229</th>\n",
       "      <td>121655</td>\n",
       "      <td>1</td>\n",
       "    </tr>\n",
       "    <tr>\n",
       "      <th>84230</th>\n",
       "      <td>121656</td>\n",
       "      <td>1</td>\n",
       "    </tr>\n",
       "    <tr>\n",
       "      <th>84231</th>\n",
       "      <td>121657</td>\n",
       "      <td>2</td>\n",
       "    </tr>\n",
       "  </tbody>\n",
       "</table>\n",
       "<p>84232 rows × 2 columns</p>\n",
       "</div>"
      ],
      "text/plain": [
       "       PostId  UpVotes\n",
       "0           1       10\n",
       "1           2       36\n",
       "2           3       15\n",
       "3           4        9\n",
       "4           5       13\n",
       "...       ...      ...\n",
       "84227  121652        3\n",
       "84228  121653        1\n",
       "84229  121655        1\n",
       "84230  121656        1\n",
       "84231  121657        2\n",
       "\n",
       "[84232 rows x 2 columns]"
      ]
     },
     "execution_count": 27,
     "metadata": {},
     "output_type": "execute_result"
    }
   ],
   "source": [
    "Votes_df.query('VoteTypeId == 2').loc[:,[\"PostId\"]].groupby(\"PostId\").size().rename(\"UpVotes\").reset_index()"
   ]
  },
  {
   "cell_type": "markdown",
   "metadata": {},
   "source": [
    "We can sort by the number by up-votes to check out the most popular posts. But let's get to another query."
   ]
  },
  {
   "cell_type": "markdown",
   "metadata": {},
   "source": [
    "Here we are going to list the titles and quality measures of popular(over 10k views) and liked(over 25 likes) questions:"
   ]
  },
  {
   "cell_type": "code",
   "execution_count": 28,
   "metadata": {},
   "outputs": [
    {
     "data": {
      "text/html": [
       "<div>\n",
       "<style scoped>\n",
       "    .dataframe tbody tr th:only-of-type {\n",
       "        vertical-align: middle;\n",
       "    }\n",
       "\n",
       "    .dataframe tbody tr th {\n",
       "        vertical-align: top;\n",
       "    }\n",
       "\n",
       "    .dataframe thead th {\n",
       "        text-align: right;\n",
       "    }\n",
       "</style>\n",
       "<table border=\"1\" class=\"dataframe\">\n",
       "  <thead>\n",
       "    <tr style=\"text-align: right;\">\n",
       "      <th></th>\n",
       "      <th>Title</th>\n",
       "      <th>Score</th>\n",
       "      <th>ViewCount</th>\n",
       "      <th>FavoriteCount</th>\n",
       "    </tr>\n",
       "  </thead>\n",
       "  <tbody>\n",
       "    <tr>\n",
       "      <th>0</th>\n",
       "      <td>When traveling to a country with a different c...</td>\n",
       "      <td>140</td>\n",
       "      <td>19835.0</td>\n",
       "      <td>37.0</td>\n",
       "    </tr>\n",
       "    <tr>\n",
       "      <th>1</th>\n",
       "      <td>How can I do a \"broad\" search for flights?</td>\n",
       "      <td>103</td>\n",
       "      <td>40359.0</td>\n",
       "      <td>54.0</td>\n",
       "    </tr>\n",
       "    <tr>\n",
       "      <th>2</th>\n",
       "      <td>Tactics to avoid getting harassed by corrupt p...</td>\n",
       "      <td>169</td>\n",
       "      <td>15562.0</td>\n",
       "      <td>46.0</td>\n",
       "    </tr>\n",
       "    <tr>\n",
       "      <th>3</th>\n",
       "      <td>How to avoid drinking vodka?</td>\n",
       "      <td>158</td>\n",
       "      <td>16577.0</td>\n",
       "      <td>32.0</td>\n",
       "    </tr>\n",
       "    <tr>\n",
       "      <th>4</th>\n",
       "      <td>Flight tickets: buy two weeks before even duri...</td>\n",
       "      <td>119</td>\n",
       "      <td>56191.0</td>\n",
       "      <td>41.0</td>\n",
       "    </tr>\n",
       "    <tr>\n",
       "      <th>5</th>\n",
       "      <td>OK we're all adults here, so really, how on ea...</td>\n",
       "      <td>319</td>\n",
       "      <td>83913.0</td>\n",
       "      <td>82.0</td>\n",
       "    </tr>\n",
       "    <tr>\n",
       "      <th>6</th>\n",
       "      <td>Why are one-way plane tickets more expensive t...</td>\n",
       "      <td>55</td>\n",
       "      <td>28612.0</td>\n",
       "      <td>25.0</td>\n",
       "    </tr>\n",
       "    <tr>\n",
       "      <th>7</th>\n",
       "      <td>Japanese etiquette: Most common (and offensive...</td>\n",
       "      <td>61</td>\n",
       "      <td>28726.0</td>\n",
       "      <td>28.0</td>\n",
       "    </tr>\n",
       "    <tr>\n",
       "      <th>8</th>\n",
       "      <td>Is it possible to make a decent income from tr...</td>\n",
       "      <td>57</td>\n",
       "      <td>10100.0</td>\n",
       "      <td>40.0</td>\n",
       "    </tr>\n",
       "    <tr>\n",
       "      <th>9</th>\n",
       "      <td>Why are airline passengers asked to lift up wi...</td>\n",
       "      <td>219</td>\n",
       "      <td>123363.0</td>\n",
       "      <td>35.0</td>\n",
       "    </tr>\n",
       "    <tr>\n",
       "      <th>10</th>\n",
       "      <td>How to intentionally get denied entry to the U...</td>\n",
       "      <td>232</td>\n",
       "      <td>66878.0</td>\n",
       "      <td>56.0</td>\n",
       "    </tr>\n",
       "    <tr>\n",
       "      <th>11</th>\n",
       "      <td>When I travel next, I want to reach the point ...</td>\n",
       "      <td>106</td>\n",
       "      <td>11005.0</td>\n",
       "      <td>26.0</td>\n",
       "    </tr>\n",
       "    <tr>\n",
       "      <th>12</th>\n",
       "      <td>How do you know if Americans genuinely/literal...</td>\n",
       "      <td>275</td>\n",
       "      <td>33774.0</td>\n",
       "      <td>89.0</td>\n",
       "    </tr>\n",
       "    <tr>\n",
       "      <th>13</th>\n",
       "      <td>How do airlines determine ticket prices?</td>\n",
       "      <td>77</td>\n",
       "      <td>10851.0</td>\n",
       "      <td>43.0</td>\n",
       "    </tr>\n",
       "    <tr>\n",
       "      <th>14</th>\n",
       "      <td>Should I submit bank statements when applying ...</td>\n",
       "      <td>95</td>\n",
       "      <td>100783.0</td>\n",
       "      <td>27.0</td>\n",
       "    </tr>\n",
       "    <tr>\n",
       "      <th>15</th>\n",
       "      <td>OK, we are all adults here, so what is a bidet...</td>\n",
       "      <td>147</td>\n",
       "      <td>76282.0</td>\n",
       "      <td>39.0</td>\n",
       "    </tr>\n",
       "    <tr>\n",
       "      <th>16</th>\n",
       "      <td>How to cope with too slow Wi-Fi at hotel?</td>\n",
       "      <td>82</td>\n",
       "      <td>25225.0</td>\n",
       "      <td>41.0</td>\n",
       "    </tr>\n",
       "  </tbody>\n",
       "</table>\n",
       "</div>"
      ],
      "text/plain": [
       "                                                Title  Score  ViewCount  \\\n",
       "0   When traveling to a country with a different c...    140    19835.0   \n",
       "1          How can I do a \"broad\" search for flights?    103    40359.0   \n",
       "2   Tactics to avoid getting harassed by corrupt p...    169    15562.0   \n",
       "3                        How to avoid drinking vodka?    158    16577.0   \n",
       "4   Flight tickets: buy two weeks before even duri...    119    56191.0   \n",
       "5   OK we're all adults here, so really, how on ea...    319    83913.0   \n",
       "6   Why are one-way plane tickets more expensive t...     55    28612.0   \n",
       "7   Japanese etiquette: Most common (and offensive...     61    28726.0   \n",
       "8   Is it possible to make a decent income from tr...     57    10100.0   \n",
       "9   Why are airline passengers asked to lift up wi...    219   123363.0   \n",
       "10  How to intentionally get denied entry to the U...    232    66878.0   \n",
       "11  When I travel next, I want to reach the point ...    106    11005.0   \n",
       "12  How do you know if Americans genuinely/literal...    275    33774.0   \n",
       "13           How do airlines determine ticket prices?     77    10851.0   \n",
       "14  Should I submit bank statements when applying ...     95   100783.0   \n",
       "15  OK, we are all adults here, so what is a bidet...    147    76282.0   \n",
       "16          How to cope with too slow Wi-Fi at hotel?     82    25225.0   \n",
       "\n",
       "    FavoriteCount  \n",
       "0            37.0  \n",
       "1            54.0  \n",
       "2            46.0  \n",
       "3            32.0  \n",
       "4            41.0  \n",
       "5            82.0  \n",
       "6            25.0  \n",
       "7            28.0  \n",
       "8            40.0  \n",
       "9            35.0  \n",
       "10           56.0  \n",
       "11           26.0  \n",
       "12           89.0  \n",
       "13           43.0  \n",
       "14           27.0  \n",
       "15           39.0  \n",
       "16           41.0  "
      ]
     },
     "execution_count": 28,
     "metadata": {},
     "output_type": "execute_result"
    }
   ],
   "source": [
    "pd.read_sql_query(\"\"\"\n",
    "SELECT\n",
    "    Title,\n",
    "    Score,\n",
    "    ViewCount,\n",
    "    FavoriteCount\n",
    "FROM Posts\n",
    "WHERE PostTypeId=1 AND FavoriteCount >= 25 AND ViewCount>=10000\n",
    "\"\"\", conn)"
   ]
  },
  {
   "cell_type": "markdown",
   "metadata": {},
   "source": [
    "The same results can obtained with a pandas method:"
   ]
  },
  {
   "cell_type": "code",
   "execution_count": 29,
   "metadata": {},
   "outputs": [
    {
     "data": {
      "text/html": [
       "<div>\n",
       "<style scoped>\n",
       "    .dataframe tbody tr th:only-of-type {\n",
       "        vertical-align: middle;\n",
       "    }\n",
       "\n",
       "    .dataframe tbody tr th {\n",
       "        vertical-align: top;\n",
       "    }\n",
       "\n",
       "    .dataframe thead th {\n",
       "        text-align: right;\n",
       "    }\n",
       "</style>\n",
       "<table border=\"1\" class=\"dataframe\">\n",
       "  <thead>\n",
       "    <tr style=\"text-align: right;\">\n",
       "      <th></th>\n",
       "      <th>Title</th>\n",
       "      <th>Score</th>\n",
       "      <th>ViewCount</th>\n",
       "      <th>FavoriteCount</th>\n",
       "    </tr>\n",
       "  </thead>\n",
       "  <tbody>\n",
       "    <tr>\n",
       "      <th>0</th>\n",
       "      <td>When traveling to a country with a different c...</td>\n",
       "      <td>140</td>\n",
       "      <td>19835.0</td>\n",
       "      <td>37.0</td>\n",
       "    </tr>\n",
       "    <tr>\n",
       "      <th>1</th>\n",
       "      <td>How can I do a \"broad\" search for flights?</td>\n",
       "      <td>103</td>\n",
       "      <td>40359.0</td>\n",
       "      <td>54.0</td>\n",
       "    </tr>\n",
       "    <tr>\n",
       "      <th>2</th>\n",
       "      <td>Tactics to avoid getting harassed by corrupt p...</td>\n",
       "      <td>169</td>\n",
       "      <td>15562.0</td>\n",
       "      <td>46.0</td>\n",
       "    </tr>\n",
       "    <tr>\n",
       "      <th>3</th>\n",
       "      <td>How to avoid drinking vodka?</td>\n",
       "      <td>158</td>\n",
       "      <td>16577.0</td>\n",
       "      <td>32.0</td>\n",
       "    </tr>\n",
       "    <tr>\n",
       "      <th>4</th>\n",
       "      <td>Flight tickets: buy two weeks before even duri...</td>\n",
       "      <td>119</td>\n",
       "      <td>56191.0</td>\n",
       "      <td>41.0</td>\n",
       "    </tr>\n",
       "    <tr>\n",
       "      <th>5</th>\n",
       "      <td>OK we're all adults here, so really, how on ea...</td>\n",
       "      <td>319</td>\n",
       "      <td>83913.0</td>\n",
       "      <td>82.0</td>\n",
       "    </tr>\n",
       "    <tr>\n",
       "      <th>6</th>\n",
       "      <td>Why are one-way plane tickets more expensive t...</td>\n",
       "      <td>55</td>\n",
       "      <td>28612.0</td>\n",
       "      <td>25.0</td>\n",
       "    </tr>\n",
       "    <tr>\n",
       "      <th>7</th>\n",
       "      <td>Japanese etiquette: Most common (and offensive...</td>\n",
       "      <td>61</td>\n",
       "      <td>28726.0</td>\n",
       "      <td>28.0</td>\n",
       "    </tr>\n",
       "    <tr>\n",
       "      <th>8</th>\n",
       "      <td>Is it possible to make a decent income from tr...</td>\n",
       "      <td>57</td>\n",
       "      <td>10100.0</td>\n",
       "      <td>40.0</td>\n",
       "    </tr>\n",
       "    <tr>\n",
       "      <th>9</th>\n",
       "      <td>Why are airline passengers asked to lift up wi...</td>\n",
       "      <td>219</td>\n",
       "      <td>123363.0</td>\n",
       "      <td>35.0</td>\n",
       "    </tr>\n",
       "    <tr>\n",
       "      <th>10</th>\n",
       "      <td>How to intentionally get denied entry to the U...</td>\n",
       "      <td>232</td>\n",
       "      <td>66878.0</td>\n",
       "      <td>56.0</td>\n",
       "    </tr>\n",
       "    <tr>\n",
       "      <th>11</th>\n",
       "      <td>When I travel next, I want to reach the point ...</td>\n",
       "      <td>106</td>\n",
       "      <td>11005.0</td>\n",
       "      <td>26.0</td>\n",
       "    </tr>\n",
       "    <tr>\n",
       "      <th>12</th>\n",
       "      <td>How do you know if Americans genuinely/literal...</td>\n",
       "      <td>275</td>\n",
       "      <td>33774.0</td>\n",
       "      <td>89.0</td>\n",
       "    </tr>\n",
       "    <tr>\n",
       "      <th>13</th>\n",
       "      <td>How do airlines determine ticket prices?</td>\n",
       "      <td>77</td>\n",
       "      <td>10851.0</td>\n",
       "      <td>43.0</td>\n",
       "    </tr>\n",
       "    <tr>\n",
       "      <th>14</th>\n",
       "      <td>Should I submit bank statements when applying ...</td>\n",
       "      <td>95</td>\n",
       "      <td>100783.0</td>\n",
       "      <td>27.0</td>\n",
       "    </tr>\n",
       "    <tr>\n",
       "      <th>15</th>\n",
       "      <td>OK, we are all adults here, so what is a bidet...</td>\n",
       "      <td>147</td>\n",
       "      <td>76282.0</td>\n",
       "      <td>39.0</td>\n",
       "    </tr>\n",
       "    <tr>\n",
       "      <th>16</th>\n",
       "      <td>How to cope with too slow Wi-Fi at hotel?</td>\n",
       "      <td>82</td>\n",
       "      <td>25225.0</td>\n",
       "      <td>41.0</td>\n",
       "    </tr>\n",
       "  </tbody>\n",
       "</table>\n",
       "</div>"
      ],
      "text/plain": [
       "                                                Title  Score  ViewCount  \\\n",
       "0   When traveling to a country with a different c...    140    19835.0   \n",
       "1          How can I do a \"broad\" search for flights?    103    40359.0   \n",
       "2   Tactics to avoid getting harassed by corrupt p...    169    15562.0   \n",
       "3                        How to avoid drinking vodka?    158    16577.0   \n",
       "4   Flight tickets: buy two weeks before even duri...    119    56191.0   \n",
       "5   OK we're all adults here, so really, how on ea...    319    83913.0   \n",
       "6   Why are one-way plane tickets more expensive t...     55    28612.0   \n",
       "7   Japanese etiquette: Most common (and offensive...     61    28726.0   \n",
       "8   Is it possible to make a decent income from tr...     57    10100.0   \n",
       "9   Why are airline passengers asked to lift up wi...    219   123363.0   \n",
       "10  How to intentionally get denied entry to the U...    232    66878.0   \n",
       "11  When I travel next, I want to reach the point ...    106    11005.0   \n",
       "12  How do you know if Americans genuinely/literal...    275    33774.0   \n",
       "13           How do airlines determine ticket prices?     77    10851.0   \n",
       "14  Should I submit bank statements when applying ...     95   100783.0   \n",
       "15  OK, we are all adults here, so what is a bidet...    147    76282.0   \n",
       "16          How to cope with too slow Wi-Fi at hotel?     82    25225.0   \n",
       "\n",
       "    FavoriteCount  \n",
       "0            37.0  \n",
       "1            54.0  \n",
       "2            46.0  \n",
       "3            32.0  \n",
       "4            41.0  \n",
       "5            82.0  \n",
       "6            25.0  \n",
       "7            28.0  \n",
       "8            40.0  \n",
       "9            35.0  \n",
       "10           56.0  \n",
       "11           26.0  \n",
       "12           89.0  \n",
       "13           43.0  \n",
       "14           27.0  \n",
       "15           39.0  \n",
       "16           41.0  "
      ]
     },
     "execution_count": 29,
     "metadata": {},
     "output_type": "execute_result"
    }
   ],
   "source": [
    "Posts_df.query('PostTypeId == 1 and FavoriteCount >= 25 and ViewCount >= 10000'\n",
    "              ).loc[:,[\"Title\",\"Score\",\"ViewCount\",\"FavoriteCount\"]].reset_index(drop=True)"
   ]
  },
  {
   "cell_type": "markdown",
   "metadata": {},
   "source": [
    "There is only 17 questions that fit the chosen views and favorites count. The most viewed is `'Why are airline passengers asked to lift up window shades during takeoff and landing?'` and the most liked is `'How do you know if Americans genuinely/literally mean what they say?'`. The first one is actually interesting, but the second one is not really about traveling. Let's get to the next one."
   ]
  },
  {
   "cell_type": "markdown",
   "metadata": {},
   "source": [
    "Let's fine th top 10 topics (often users ask new questions that have already been answered, then the community creates relevant links between the questions)."
   ]
  },
  {
   "cell_type": "code",
   "execution_count": 30,
   "metadata": {},
   "outputs": [
    {
     "data": {
      "text/html": [
       "<div>\n",
       "<style scoped>\n",
       "    .dataframe tbody tr th:only-of-type {\n",
       "        vertical-align: middle;\n",
       "    }\n",
       "\n",
       "    .dataframe tbody tr th {\n",
       "        vertical-align: top;\n",
       "    }\n",
       "\n",
       "    .dataframe thead th {\n",
       "        text-align: right;\n",
       "    }\n",
       "</style>\n",
       "<table border=\"1\" class=\"dataframe\">\n",
       "  <thead>\n",
       "    <tr style=\"text-align: right;\">\n",
       "      <th></th>\n",
       "      <th>Title</th>\n",
       "      <th>NumLinks</th>\n",
       "    </tr>\n",
       "  </thead>\n",
       "  <tbody>\n",
       "    <tr>\n",
       "      <th>0</th>\n",
       "      <td>Is there a way to find out if I need a transit...</td>\n",
       "      <td>789</td>\n",
       "    </tr>\n",
       "    <tr>\n",
       "      <th>1</th>\n",
       "      <td>Do I need a visa to transit (or layover) in th...</td>\n",
       "      <td>758</td>\n",
       "    </tr>\n",
       "    <tr>\n",
       "      <th>2</th>\n",
       "      <td>Should my first trip be to the country which i...</td>\n",
       "      <td>389</td>\n",
       "    </tr>\n",
       "    <tr>\n",
       "      <th>3</th>\n",
       "      <td>Should I submit bank statements when applying ...</td>\n",
       "      <td>386</td>\n",
       "    </tr>\n",
       "    <tr>\n",
       "      <th>4</th>\n",
       "      <td>How does the Schengen 90/180 rule work?</td>\n",
       "      <td>239</td>\n",
       "    </tr>\n",
       "    <tr>\n",
       "      <th>5</th>\n",
       "      <td>I have two passports/nationalities. How do I u...</td>\n",
       "      <td>233</td>\n",
       "    </tr>\n",
       "    <tr>\n",
       "      <th>6</th>\n",
       "      <td>How much electronics and other valuables can I...</td>\n",
       "      <td>224</td>\n",
       "    </tr>\n",
       "    <tr>\n",
       "      <th>7</th>\n",
       "      <td>UK visa refusal on V 4.2 a + c (and sometimes ...</td>\n",
       "      <td>209</td>\n",
       "    </tr>\n",
       "    <tr>\n",
       "      <th>8</th>\n",
       "      <td>Do I need a US visa to transit (or layover) th...</td>\n",
       "      <td>200</td>\n",
       "    </tr>\n",
       "    <tr>\n",
       "      <th>9</th>\n",
       "      <td>Schengen Visa Refusal: Justification for the p...</td>\n",
       "      <td>153</td>\n",
       "    </tr>\n",
       "  </tbody>\n",
       "</table>\n",
       "</div>"
      ],
      "text/plain": [
       "                                               Title  NumLinks\n",
       "0  Is there a way to find out if I need a transit...       789\n",
       "1  Do I need a visa to transit (or layover) in th...       758\n",
       "2  Should my first trip be to the country which i...       389\n",
       "3  Should I submit bank statements when applying ...       386\n",
       "4            How does the Schengen 90/180 rule work?       239\n",
       "5  I have two passports/nationalities. How do I u...       233\n",
       "6  How much electronics and other valuables can I...       224\n",
       "7  UK visa refusal on V 4.2 a + c (and sometimes ...       209\n",
       "8  Do I need a US visa to transit (or layover) th...       200\n",
       "9  Schengen Visa Refusal: Justification for the p...       153"
      ]
     },
     "execution_count": 30,
     "metadata": {},
     "output_type": "execute_result"
    }
   ],
   "source": [
    "pd.read_sql_query(\"\"\"\n",
    "SELECT\n",
    "    Posts.Title,\n",
    "    RelatedTab.NumLinks\n",
    "FROM (\n",
    "SELECT\n",
    "    RelatedPostId AS PostId,\n",
    "    COUNT(*) AS NumLinks\n",
    "FROM PostLinks\n",
    "GROUP BY RelatedPostId\n",
    ") AS RelatedTab\n",
    "JOIN Posts ON RelatedTab.PostId=Posts.Id\n",
    "WHERE Posts.PostTypeId=1\n",
    "ORDER BY NumLinks DESC\n",
    "LIMIT 10\n",
    "\"\"\", conn)"
   ]
  },
  {
   "cell_type": "markdown",
   "metadata": {},
   "source": [
    "The same results can obtained with a pandas method with additionaly created data frame `RelatedTab`:"
   ]
  },
  {
   "cell_type": "code",
   "execution_count": 31,
   "metadata": {},
   "outputs": [],
   "source": [
    "RelatedTab = PostLinks_df.loc[:,[\"RelatedPostId\"]].groupby(\"RelatedPostId\").size().rename(\"Count\"\n",
    "                        ).reset_index().rename(columns=dict(RelatedPostId=\"PostId\",Count=\"NumLinks\"))"
   ]
  },
  {
   "cell_type": "code",
   "execution_count": 32,
   "metadata": {
    "scrolled": true
   },
   "outputs": [
    {
     "data": {
      "text/html": [
       "<div>\n",
       "<style scoped>\n",
       "    .dataframe tbody tr th:only-of-type {\n",
       "        vertical-align: middle;\n",
       "    }\n",
       "\n",
       "    .dataframe tbody tr th {\n",
       "        vertical-align: top;\n",
       "    }\n",
       "\n",
       "    .dataframe thead th {\n",
       "        text-align: right;\n",
       "    }\n",
       "</style>\n",
       "<table border=\"1\" class=\"dataframe\">\n",
       "  <thead>\n",
       "    <tr style=\"text-align: right;\">\n",
       "      <th></th>\n",
       "      <th>Title</th>\n",
       "      <th>NumLinks</th>\n",
       "    </tr>\n",
       "  </thead>\n",
       "  <tbody>\n",
       "    <tr>\n",
       "      <th>0</th>\n",
       "      <td>Is there a way to find out if I need a transit...</td>\n",
       "      <td>789</td>\n",
       "    </tr>\n",
       "    <tr>\n",
       "      <th>1</th>\n",
       "      <td>Do I need a visa to transit (or layover) in th...</td>\n",
       "      <td>758</td>\n",
       "    </tr>\n",
       "    <tr>\n",
       "      <th>2</th>\n",
       "      <td>Should my first trip be to the country which i...</td>\n",
       "      <td>389</td>\n",
       "    </tr>\n",
       "    <tr>\n",
       "      <th>3</th>\n",
       "      <td>Should I submit bank statements when applying ...</td>\n",
       "      <td>386</td>\n",
       "    </tr>\n",
       "    <tr>\n",
       "      <th>4</th>\n",
       "      <td>How does the Schengen 90/180 rule work?</td>\n",
       "      <td>239</td>\n",
       "    </tr>\n",
       "    <tr>\n",
       "      <th>5</th>\n",
       "      <td>I have two passports/nationalities. How do I u...</td>\n",
       "      <td>233</td>\n",
       "    </tr>\n",
       "    <tr>\n",
       "      <th>6</th>\n",
       "      <td>How much electronics and other valuables can I...</td>\n",
       "      <td>224</td>\n",
       "    </tr>\n",
       "    <tr>\n",
       "      <th>7</th>\n",
       "      <td>UK visa refusal on V 4.2 a + c (and sometimes ...</td>\n",
       "      <td>209</td>\n",
       "    </tr>\n",
       "    <tr>\n",
       "      <th>8</th>\n",
       "      <td>Do I need a US visa to transit (or layover) th...</td>\n",
       "      <td>200</td>\n",
       "    </tr>\n",
       "    <tr>\n",
       "      <th>9</th>\n",
       "      <td>Schengen Visa Refusal: Justification for the p...</td>\n",
       "      <td>153</td>\n",
       "    </tr>\n",
       "  </tbody>\n",
       "</table>\n",
       "</div>"
      ],
      "text/plain": [
       "                                               Title  NumLinks\n",
       "0  Is there a way to find out if I need a transit...       789\n",
       "1  Do I need a visa to transit (or layover) in th...       758\n",
       "2  Should my first trip be to the country which i...       389\n",
       "3  Should I submit bank statements when applying ...       386\n",
       "4            How does the Schengen 90/180 rule work?       239\n",
       "5  I have two passports/nationalities. How do I u...       233\n",
       "6  How much electronics and other valuables can I...       224\n",
       "7  UK visa refusal on V 4.2 a + c (and sometimes ...       209\n",
       "8  Do I need a US visa to transit (or layover) th...       200\n",
       "9  Schengen Visa Refusal: Justification for the p...       153"
      ]
     },
     "execution_count": 32,
     "metadata": {},
     "output_type": "execute_result"
    }
   ],
   "source": [
    "RelatedTab.merge(Posts_df, left_on=\"PostId\", right_on=\"Id\").query('PostTypeId == 1'\n",
    "                ).loc[:,[\"Title\",\"NumLinks\"]].sort_values(\"NumLinks\", ascending=False).reset_index(drop=True).head(10)"
   ]
  },
  {
   "cell_type": "markdown",
   "metadata": {},
   "source": [
    "The most linked topic is `'Is there a way to find out if I need a transit visa for a layover in the UK?'` and the second most linked topic is `'Do I need a visa to transit (or layover) in the Schengen area?'`. Both about transit and layover in either United Kingdom or Schengen area. Many topics talk about Schengen or Visa, so basically people are trying to prepare for their trips in advance to make them go smothly without any problems when they are on their vacations or business trips."
   ]
  },
  {
   "cell_type": "markdown",
   "metadata": {},
   "source": [
    "Now let's count the votes for and against the posts, up-votes and down-votes, with more than 0 votes. So if they have any votes at all. Note: we specifically ignore the Posts.Score column again."
   ]
  },
  {
   "cell_type": "code",
   "execution_count": 33,
   "metadata": {},
   "outputs": [
    {
     "data": {
      "text/html": [
       "<div>\n",
       "<style scoped>\n",
       "    .dataframe tbody tr th:only-of-type {\n",
       "        vertical-align: middle;\n",
       "    }\n",
       "\n",
       "    .dataframe tbody tr th {\n",
       "        vertical-align: top;\n",
       "    }\n",
       "\n",
       "    .dataframe thead th {\n",
       "        text-align: right;\n",
       "    }\n",
       "</style>\n",
       "<table border=\"1\" class=\"dataframe\">\n",
       "  <thead>\n",
       "    <tr style=\"text-align: right;\">\n",
       "      <th></th>\n",
       "      <th>PostId</th>\n",
       "      <th>UpVotes</th>\n",
       "      <th>DownVotes</th>\n",
       "    </tr>\n",
       "  </thead>\n",
       "  <tbody>\n",
       "    <tr>\n",
       "      <th>0</th>\n",
       "      <td>1</td>\n",
       "      <td>10</td>\n",
       "      <td>2</td>\n",
       "    </tr>\n",
       "    <tr>\n",
       "      <th>1</th>\n",
       "      <td>2</td>\n",
       "      <td>36</td>\n",
       "      <td>0</td>\n",
       "    </tr>\n",
       "    <tr>\n",
       "      <th>2</th>\n",
       "      <td>3</td>\n",
       "      <td>15</td>\n",
       "      <td>1</td>\n",
       "    </tr>\n",
       "    <tr>\n",
       "      <th>3</th>\n",
       "      <td>4</td>\n",
       "      <td>9</td>\n",
       "      <td>1</td>\n",
       "    </tr>\n",
       "    <tr>\n",
       "      <th>4</th>\n",
       "      <td>5</td>\n",
       "      <td>13</td>\n",
       "      <td>0</td>\n",
       "    </tr>\n",
       "    <tr>\n",
       "      <th>...</th>\n",
       "      <td>...</td>\n",
       "      <td>...</td>\n",
       "      <td>...</td>\n",
       "    </tr>\n",
       "    <tr>\n",
       "      <th>84227</th>\n",
       "      <td>121652</td>\n",
       "      <td>3</td>\n",
       "      <td>0</td>\n",
       "    </tr>\n",
       "    <tr>\n",
       "      <th>84228</th>\n",
       "      <td>121653</td>\n",
       "      <td>1</td>\n",
       "      <td>0</td>\n",
       "    </tr>\n",
       "    <tr>\n",
       "      <th>84229</th>\n",
       "      <td>121655</td>\n",
       "      <td>1</td>\n",
       "      <td>1</td>\n",
       "    </tr>\n",
       "    <tr>\n",
       "      <th>84230</th>\n",
       "      <td>121656</td>\n",
       "      <td>1</td>\n",
       "      <td>0</td>\n",
       "    </tr>\n",
       "    <tr>\n",
       "      <th>84231</th>\n",
       "      <td>121657</td>\n",
       "      <td>2</td>\n",
       "      <td>1</td>\n",
       "    </tr>\n",
       "  </tbody>\n",
       "</table>\n",
       "<p>84232 rows × 3 columns</p>\n",
       "</div>"
      ],
      "text/plain": [
       "       PostId  UpVotes  DownVotes\n",
       "0           1       10          2\n",
       "1           2       36          0\n",
       "2           3       15          1\n",
       "3           4        9          1\n",
       "4           5       13          0\n",
       "...       ...      ...        ...\n",
       "84227  121652        3          0\n",
       "84228  121653        1          0\n",
       "84229  121655        1          1\n",
       "84230  121656        1          0\n",
       "84231  121657        2          1\n",
       "\n",
       "[84232 rows x 3 columns]"
      ]
     },
     "execution_count": 33,
     "metadata": {},
     "output_type": "execute_result"
    }
   ],
   "source": [
    "pd.read_sql_query(\"\"\"\n",
    "SELECT\n",
    "    UpVotesTab.PostId,\n",
    "    UpVotesTab.UpVotes,\n",
    "    IFNULL(DownVotesTab.DownVotes, 0) AS DownVotes\n",
    "FROM (\n",
    "SELECT\n",
    "    PostId,\n",
    "    COUNT(*) AS UpVotes\n",
    "FROM Votes\n",
    "WHERE VoteTypeId=2\n",
    "GROUP BY PostId\n",
    ") AS UpVotesTab\n",
    "LEFT JOIN (\n",
    "SELECT\n",
    "    PostId,\n",
    "    COUNT(*) AS DownVotes\n",
    "FROM Votes\n",
    "WHERE VoteTypeId=3\n",
    "GROUP BY PostId\n",
    ") AS DownVotesTab\n",
    "ON UpVotesTab.PostId=DownVotesTab.PostId\n",
    "\"\"\", conn)"
   ]
  },
  {
   "cell_type": "markdown",
   "metadata": {},
   "source": [
    "The same results can obtained with a pandas method, but again we need to make some additional tables for up-votes and down-votes, and only then we can marge them to achieve the same results as in SQL query."
   ]
  },
  {
   "cell_type": "code",
   "execution_count": 34,
   "metadata": {},
   "outputs": [],
   "source": [
    "UpVotesTab = Votes_df.query('VoteTypeId == 2').loc[:,[\"PostId\"]].groupby(\"PostId\").size().rename(\"UpVotes\").reset_index()"
   ]
  },
  {
   "cell_type": "code",
   "execution_count": 35,
   "metadata": {},
   "outputs": [],
   "source": [
    "DownVotesTab = Votes_df.query('VoteTypeId == 3').loc[:,[\"PostId\"]].groupby(\"PostId\").size().rename(\"DownVotes\").reset_index()"
   ]
  },
  {
   "cell_type": "code",
   "execution_count": 36,
   "metadata": {},
   "outputs": [
    {
     "data": {
      "text/html": [
       "<div>\n",
       "<style scoped>\n",
       "    .dataframe tbody tr th:only-of-type {\n",
       "        vertical-align: middle;\n",
       "    }\n",
       "\n",
       "    .dataframe tbody tr th {\n",
       "        vertical-align: top;\n",
       "    }\n",
       "\n",
       "    .dataframe thead th {\n",
       "        text-align: right;\n",
       "    }\n",
       "</style>\n",
       "<table border=\"1\" class=\"dataframe\">\n",
       "  <thead>\n",
       "    <tr style=\"text-align: right;\">\n",
       "      <th></th>\n",
       "      <th>PostId</th>\n",
       "      <th>UpVotes</th>\n",
       "      <th>DownVotes</th>\n",
       "    </tr>\n",
       "  </thead>\n",
       "  <tbody>\n",
       "    <tr>\n",
       "      <th>0</th>\n",
       "      <td>1</td>\n",
       "      <td>10</td>\n",
       "      <td>2</td>\n",
       "    </tr>\n",
       "    <tr>\n",
       "      <th>1</th>\n",
       "      <td>2</td>\n",
       "      <td>36</td>\n",
       "      <td>0</td>\n",
       "    </tr>\n",
       "    <tr>\n",
       "      <th>2</th>\n",
       "      <td>3</td>\n",
       "      <td>15</td>\n",
       "      <td>1</td>\n",
       "    </tr>\n",
       "    <tr>\n",
       "      <th>3</th>\n",
       "      <td>4</td>\n",
       "      <td>9</td>\n",
       "      <td>1</td>\n",
       "    </tr>\n",
       "    <tr>\n",
       "      <th>4</th>\n",
       "      <td>5</td>\n",
       "      <td>13</td>\n",
       "      <td>0</td>\n",
       "    </tr>\n",
       "    <tr>\n",
       "      <th>...</th>\n",
       "      <td>...</td>\n",
       "      <td>...</td>\n",
       "      <td>...</td>\n",
       "    </tr>\n",
       "    <tr>\n",
       "      <th>84227</th>\n",
       "      <td>121652</td>\n",
       "      <td>3</td>\n",
       "      <td>0</td>\n",
       "    </tr>\n",
       "    <tr>\n",
       "      <th>84228</th>\n",
       "      <td>121653</td>\n",
       "      <td>1</td>\n",
       "      <td>0</td>\n",
       "    </tr>\n",
       "    <tr>\n",
       "      <th>84229</th>\n",
       "      <td>121655</td>\n",
       "      <td>1</td>\n",
       "      <td>1</td>\n",
       "    </tr>\n",
       "    <tr>\n",
       "      <th>84230</th>\n",
       "      <td>121656</td>\n",
       "      <td>1</td>\n",
       "      <td>0</td>\n",
       "    </tr>\n",
       "    <tr>\n",
       "      <th>84231</th>\n",
       "      <td>121657</td>\n",
       "      <td>2</td>\n",
       "      <td>1</td>\n",
       "    </tr>\n",
       "  </tbody>\n",
       "</table>\n",
       "<p>84232 rows × 3 columns</p>\n",
       "</div>"
      ],
      "text/plain": [
       "       PostId  UpVotes DownVotes\n",
       "0           1       10         2\n",
       "1           2       36         0\n",
       "2           3       15         1\n",
       "3           4        9         1\n",
       "4           5       13         0\n",
       "...       ...      ...       ...\n",
       "84227  121652        3         0\n",
       "84228  121653        1         0\n",
       "84229  121655        1         1\n",
       "84230  121656        1         0\n",
       "84231  121657        2         1\n",
       "\n",
       "[84232 rows x 3 columns]"
      ]
     },
     "execution_count": 36,
     "metadata": {},
     "output_type": "execute_result"
    }
   ],
   "source": [
    "pd.merge(UpVotesTab,DownVotesTab,on=\"PostId\",how=\"left\").loc[:,[\"PostId\",\"UpVotes\",\"DownVotes\"]].replace(np.NaN, '0')"
   ]
  },
  {
   "cell_type": "markdown",
   "metadata": {},
   "source": [
    "Let's get the top ten posts with the highest number of up-votes with corresponding titles."
   ]
  },
  {
   "cell_type": "code",
   "execution_count": 37,
   "metadata": {},
   "outputs": [
    {
     "data": {
      "text/html": [
       "<div>\n",
       "<style scoped>\n",
       "    .dataframe tbody tr th:only-of-type {\n",
       "        vertical-align: middle;\n",
       "    }\n",
       "\n",
       "    .dataframe tbody tr th {\n",
       "        vertical-align: top;\n",
       "    }\n",
       "\n",
       "    .dataframe thead th {\n",
       "        text-align: right;\n",
       "    }\n",
       "</style>\n",
       "<table border=\"1\" class=\"dataframe\">\n",
       "  <thead>\n",
       "    <tr style=\"text-align: right;\">\n",
       "      <th></th>\n",
       "      <th>PostId</th>\n",
       "      <th>UpVotes</th>\n",
       "      <th>Title</th>\n",
       "    </tr>\n",
       "  </thead>\n",
       "  <tbody>\n",
       "    <tr>\n",
       "      <th>0</th>\n",
       "      <td>3080</td>\n",
       "      <td>320</td>\n",
       "      <td>OK we're all adults here, so really, how on ea...</td>\n",
       "    </tr>\n",
       "    <tr>\n",
       "      <th>1</th>\n",
       "      <td>38177</td>\n",
       "      <td>276</td>\n",
       "      <td>How do you know if Americans genuinely/literal...</td>\n",
       "    </tr>\n",
       "    <tr>\n",
       "      <th>2</th>\n",
       "      <td>24540</td>\n",
       "      <td>234</td>\n",
       "      <td>How to intentionally get denied entry to the U...</td>\n",
       "    </tr>\n",
       "    <tr>\n",
       "      <th>3</th>\n",
       "      <td>20207</td>\n",
       "      <td>220</td>\n",
       "      <td>Why are airline passengers asked to lift up wi...</td>\n",
       "    </tr>\n",
       "    <tr>\n",
       "      <th>4</th>\n",
       "      <td>96447</td>\n",
       "      <td>185</td>\n",
       "      <td>Why prohibit engine braking?</td>\n",
       "    </tr>\n",
       "    <tr>\n",
       "      <th>5</th>\n",
       "      <td>98367</td>\n",
       "      <td>184</td>\n",
       "      <td>Boss is asking for passport, but it has a stam...</td>\n",
       "    </tr>\n",
       "    <tr>\n",
       "      <th>6</th>\n",
       "      <td>1224</td>\n",
       "      <td>170</td>\n",
       "      <td>Tactics to avoid getting harassed by corrupt p...</td>\n",
       "    </tr>\n",
       "    <tr>\n",
       "      <th>7</th>\n",
       "      <td>2539</td>\n",
       "      <td>158</td>\n",
       "      <td>How to avoid drinking vodka?</td>\n",
       "    </tr>\n",
       "    <tr>\n",
       "      <th>8</th>\n",
       "      <td>66845</td>\n",
       "      <td>150</td>\n",
       "      <td>I don't know my nationality. How can I visit D...</td>\n",
       "    </tr>\n",
       "    <tr>\n",
       "      <th>9</th>\n",
       "      <td>70827</td>\n",
       "      <td>150</td>\n",
       "      <td>OK, we are all adults here, so what is a bidet...</td>\n",
       "    </tr>\n",
       "  </tbody>\n",
       "</table>\n",
       "</div>"
      ],
      "text/plain": [
       "   PostId  UpVotes                                              Title\n",
       "0    3080      320  OK we're all adults here, so really, how on ea...\n",
       "1   38177      276  How do you know if Americans genuinely/literal...\n",
       "2   24540      234  How to intentionally get denied entry to the U...\n",
       "3   20207      220  Why are airline passengers asked to lift up wi...\n",
       "4   96447      185                       Why prohibit engine braking?\n",
       "5   98367      184  Boss is asking for passport, but it has a stam...\n",
       "6    1224      170  Tactics to avoid getting harassed by corrupt p...\n",
       "7    2539      158                       How to avoid drinking vodka?\n",
       "8   66845      150  I don't know my nationality. How can I visit D...\n",
       "9   70827      150  OK, we are all adults here, so what is a bidet..."
      ]
     },
     "execution_count": 37,
     "metadata": {},
     "output_type": "execute_result"
    }
   ],
   "source": [
    "pd.read_sql_query(\"\"\"\n",
    "SELECT\n",
    "    UpVotesTab.*,\n",
    "    Posts.Title\n",
    "FROM (\n",
    "SELECT\n",
    "    PostId,\n",
    "    COUNT(*) AS UpVotes\n",
    "FROM Votes\n",
    "WHERE VoteTypeId=2\n",
    "GROUP BY PostId\n",
    ") AS UpVotesTab\n",
    "JOIN Posts ON UpVotesTab.PostId=Posts.Id\n",
    "WHERE Posts.PostTypeId=1\n",
    "ORDER BY UpVotesTab.UpVotes DESC\n",
    "LIMIT 10\n",
    "\"\"\", conn)"
   ]
  },
  {
   "cell_type": "markdown",
   "metadata": {},
   "source": [
    "The same results can obtained with a pandas method:"
   ]
  },
  {
   "cell_type": "code",
   "execution_count": 38,
   "metadata": {},
   "outputs": [],
   "source": [
    "UpVotesTab = Votes_df.query('VoteTypeId == 2').loc[:,[\"PostId\"]].groupby(\"PostId\").size().rename(\"UpVotes\").reset_index()"
   ]
  },
  {
   "cell_type": "code",
   "execution_count": 39,
   "metadata": {},
   "outputs": [
    {
     "data": {
      "text/html": [
       "<div>\n",
       "<style scoped>\n",
       "    .dataframe tbody tr th:only-of-type {\n",
       "        vertical-align: middle;\n",
       "    }\n",
       "\n",
       "    .dataframe tbody tr th {\n",
       "        vertical-align: top;\n",
       "    }\n",
       "\n",
       "    .dataframe thead th {\n",
       "        text-align: right;\n",
       "    }\n",
       "</style>\n",
       "<table border=\"1\" class=\"dataframe\">\n",
       "  <thead>\n",
       "    <tr style=\"text-align: right;\">\n",
       "      <th></th>\n",
       "      <th>PostId</th>\n",
       "      <th>UpVotes</th>\n",
       "      <th>Title</th>\n",
       "    </tr>\n",
       "  </thead>\n",
       "  <tbody>\n",
       "    <tr>\n",
       "      <th>0</th>\n",
       "      <td>3080</td>\n",
       "      <td>320</td>\n",
       "      <td>OK we're all adults here, so really, how on ea...</td>\n",
       "    </tr>\n",
       "    <tr>\n",
       "      <th>1</th>\n",
       "      <td>38177</td>\n",
       "      <td>276</td>\n",
       "      <td>How do you know if Americans genuinely/literal...</td>\n",
       "    </tr>\n",
       "    <tr>\n",
       "      <th>2</th>\n",
       "      <td>24540</td>\n",
       "      <td>234</td>\n",
       "      <td>How to intentionally get denied entry to the U...</td>\n",
       "    </tr>\n",
       "    <tr>\n",
       "      <th>3</th>\n",
       "      <td>20207</td>\n",
       "      <td>220</td>\n",
       "      <td>Why are airline passengers asked to lift up wi...</td>\n",
       "    </tr>\n",
       "    <tr>\n",
       "      <th>4</th>\n",
       "      <td>96447</td>\n",
       "      <td>185</td>\n",
       "      <td>Why prohibit engine braking?</td>\n",
       "    </tr>\n",
       "    <tr>\n",
       "      <th>5</th>\n",
       "      <td>98367</td>\n",
       "      <td>184</td>\n",
       "      <td>Boss is asking for passport, but it has a stam...</td>\n",
       "    </tr>\n",
       "    <tr>\n",
       "      <th>6</th>\n",
       "      <td>1224</td>\n",
       "      <td>170</td>\n",
       "      <td>Tactics to avoid getting harassed by corrupt p...</td>\n",
       "    </tr>\n",
       "    <tr>\n",
       "      <th>7</th>\n",
       "      <td>2539</td>\n",
       "      <td>158</td>\n",
       "      <td>How to avoid drinking vodka?</td>\n",
       "    </tr>\n",
       "    <tr>\n",
       "      <th>8</th>\n",
       "      <td>66845</td>\n",
       "      <td>150</td>\n",
       "      <td>I don't know my nationality. How can I visit D...</td>\n",
       "    </tr>\n",
       "    <tr>\n",
       "      <th>9</th>\n",
       "      <td>70827</td>\n",
       "      <td>150</td>\n",
       "      <td>OK, we are all adults here, so what is a bidet...</td>\n",
       "    </tr>\n",
       "  </tbody>\n",
       "</table>\n",
       "</div>"
      ],
      "text/plain": [
       "   PostId  UpVotes                                              Title\n",
       "0    3080      320  OK we're all adults here, so really, how on ea...\n",
       "1   38177      276  How do you know if Americans genuinely/literal...\n",
       "2   24540      234  How to intentionally get denied entry to the U...\n",
       "3   20207      220  Why are airline passengers asked to lift up wi...\n",
       "4   96447      185                       Why prohibit engine braking?\n",
       "5   98367      184  Boss is asking for passport, but it has a stam...\n",
       "6    1224      170  Tactics to avoid getting harassed by corrupt p...\n",
       "7    2539      158                       How to avoid drinking vodka?\n",
       "8   66845      150  I don't know my nationality. How can I visit D...\n",
       "9   70827      150  OK, we are all adults here, so what is a bidet..."
      ]
     },
     "execution_count": 39,
     "metadata": {},
     "output_type": "execute_result"
    }
   ],
   "source": [
    "UpVotesTab.merge(Posts_df, left_on=\"PostId\", right_on=\"Id\").query('PostTypeId == 1'\n",
    "            ).loc[:,[\"PostId\",\"UpVotes\",\"Title\"]].sort_values(\"UpVotes\", ascending=False).reset_index(drop=True).head(10)"
   ]
  },
  {
   "cell_type": "markdown",
   "metadata": {},
   "source": [
    "We can notice that the second and fourth rows are the same as we listed in one of the previous queries. The post with most up-votes is `\"OK we're all adults here, so really, how on earth should I use a squat toilet?\"`. Toilet question it is! "
   ]
  },
  {
   "cell_type": "markdown",
   "metadata": {},
   "source": [
    "## 3. Data analysis\n",
    "\n",
    "I want to look at the analysis of data from the point of view of the airline carriers.\n",
    "\n",
    "1. In the first step, it seems interesting to check the competition. Which airlines appear most often as tags? We will analyze global airlines divided into geographical regions of Europe, North America, Asia, and Africa.\n",
    "2. Where do the website users come from? The result will allow us to determine which countries to target the advertising campaign, where there is a greater interest in travel. I narrow down my search to Europe in this section.\n",
    "3. What economic and climatic factors affect the number of users from a given location? We will use additional data from the Internet to create our own tables, which we will later analyze using machine learning from the sklearn package.\n",
    "4. And finally, which airports are the most popular among the website users. Again, we will use data taken from the Internet, which includes city/airport names and IATA codes of given airports, and then search posts and comments for those keywords. Posts and comments come from the entire data set, so statements from people around the world are also taken into account, but only European cities and airports are of interest."
   ]
  },
  {
   "cell_type": "markdown",
   "metadata": {},
   "source": [
    "Load data visualisation packages:"
   ]
  },
  {
   "cell_type": "code",
   "execution_count": 40,
   "metadata": {},
   "outputs": [],
   "source": [
    "import matplotlib.pyplot as plt\n",
    "import seaborn as sns\n",
    "% matplotlib inline\n",
    "pd.set_option(\"display.notebook_repr_html\", False)"
   ]
  },
  {
   "cell_type": "markdown",
   "metadata": {},
   "source": [
    "Now we choose the top most popular European airlines. Those are: \n",
    "- Ryanair (Ireland)\n",
    "- Wizz Air (Hungary)\n",
    "- Lufthansa (Germany)\n",
    "- KLM (Netherlands)\n",
    "- Aegean Airlines (Greece)\n",
    "- Lot Polish Airlines (Poland)\n",
    "- Air France (France)\n",
    "- airBaltic (Latvia)\n",
    "- Easyjet (UK)\n",
    "- British Airways (UK)\n",
    "- Aer Lingus (Ireland)  \n",
    "  \n",
    "And see how often do they appear as tags in `Tags_df`. We also add a `Color` column to differentiate each geographical region. Europe is green. "
   ]
  },
  {
   "cell_type": "code",
   "execution_count": 41,
   "metadata": {},
   "outputs": [
    {
     "data": {
      "text/plain": [
       "                TagName  Count Color\n",
       "0       British Airways    120     g\n",
       "1               Ryanair    103     g\n",
       "2             Lufthansa     80     g\n",
       "3                   Klm     49     g\n",
       "4               Easyjet     45     g\n",
       "5              Wizz Air     31     g\n",
       "6            Air France     28     g\n",
       "7             Airbaltic      7     g\n",
       "8            Aer Lingus      4     g\n",
       "9   Lot Polish Airlines      3     g\n",
       "10      Aegean Airlines      2     g"
      ]
     },
     "execution_count": 41,
     "metadata": {},
     "output_type": "execute_result"
    }
   ],
   "source": [
    "europ_airlies = Tags_df.query('TagName in [\"ryanair\", \"wizz-air\", \"lufthansa\", \"klm\",\"aegean-airlines\",\"lot-polish-airlines\",\"air-france\",\"airbaltic\",\"easyjet\",\"british-airways\",\"aer-lingus\"]'\n",
    "                             ).loc[:,[\"TagName\",\"Count\"]].sort_values(by = \"Count\", ascending=False).reset_index(drop=True)\n",
    "europ_airlies['Color'] = 'g'\n",
    "for i in range(0,len(europ_airlies)):\n",
    "    europ_airlies.TagName[i] = europ_airlies.TagName[i].title().replace(\"-\",\" \")\n",
    "europ_airlies"
   ]
  },
  {
   "cell_type": "markdown",
   "metadata": {},
   "source": [
    "Clearly some of the airlines are more popular than others. Which is even better shown by a bar plot:"
   ]
  },
  {
   "cell_type": "code",
   "execution_count": 42,
   "metadata": {},
   "outputs": [
    {
     "data": {
      "image/png": "[encoded data removed]",
      "text/plain": [
       "<Figure size 432x288 with 1 Axes>"
      ]
     },
     "metadata": {
      "needs_background": "light"
     },
     "output_type": "display_data"
    }
   ],
   "source": [
    "plt.barh(europ_airlies.TagName,europ_airlies.Count, color=europ_airlies.Color)\n",
    "plt.grid()"
   ]
  },
  {
   "cell_type": "markdown",
   "metadata": {},
   "source": [
    "To seek the top most popular American airlines we will do some web scraping of wikipedia page:"
   ]
  },
  {
   "cell_type": "code",
   "execution_count": 43,
   "metadata": {},
   "outputs": [],
   "source": [
    "web_namer_airlines = pd.read_html(\"https://en.wikipedia.org/wiki/List_of_airlines_of_the_United_States\")"
   ]
  },
  {
   "cell_type": "markdown",
   "metadata": {},
   "source": [
    "By previewing the tags in the Travel Stack Exchange database we can see the tendency of tags constructions. We modify he scraped list by replacing space with a dash, and only lowercase letters."
   ]
  },
  {
   "cell_type": "code",
   "execution_count": 44,
   "metadata": {},
   "outputs": [
    {
     "data": {
      "text/plain": [
       "['alaska-airlines',\n",
       " 'allegiant-air',\n",
       " 'american-airlines',\n",
       " 'delta-air-lines',\n",
       " 'frontier-airlines',\n",
       " 'hawaiian-airlines',\n",
       " 'jetblue-airways',\n",
       " 'southwest-airlines',\n",
       " 'spirit-airlines',\n",
       " 'sun-country-airlines',\n",
       " 'united-airlines']"
      ]
     },
     "execution_count": 44,
     "metadata": {},
     "output_type": "execute_result"
    }
   ],
   "source": [
    "namer_airlines_list = []\n",
    "namer_airlines = web_namer_airlines[0].iloc[:,0]\n",
    "for i in range(0,len(namer_airlines)):\n",
    "    namer_airlines[i] = namer_airlines[i].replace(' ', '-').lower()\n",
    "namer_airlines_list = namer_airlines.values.tolist()\n",
    "namer_airlines_list"
   ]
  },
  {
   "cell_type": "markdown",
   "metadata": {},
   "source": [
    "Again we will see how often do they appear as tags in `Tags_df`. The `Color` column to differentiate geographical region for the North America is pink. "
   ]
  },
  {
   "cell_type": "code",
   "execution_count": 45,
   "metadata": {},
   "outputs": [
    {
     "data": {
      "text/plain": [
       "              TagName  Count Color\n",
       "0     United Airlines    129     m\n",
       "1   American Airlines    111     m\n",
       "2     Delta Air Lines     48     m\n",
       "3     Spirit Airlines     19     m\n",
       "4     Alaska Airlines     17     m\n",
       "5  Southwest Airlines     11     m\n",
       "6       Allegiant Air      5     m\n",
       "7   Frontier Airlines      3     m\n",
       "8   Hawaiian Airlines      2     m"
      ]
     },
     "execution_count": 45,
     "metadata": {},
     "output_type": "execute_result"
    }
   ],
   "source": [
    "namer_airlies = Tags_df.query('TagName in @namer_airlines_list').loc[:,[\"TagName\",\"Count\"]].sort_values(by = \"Count\", ascending=False).reset_index(drop=True)\n",
    "namer_airlies['Color'] = 'm'\n",
    "for i in range(0,len(namer_airlies)):\n",
    "    namer_airlies.TagName[i] = namer_airlies.TagName[i].title().replace(\"-\",\" \")\n",
    "namer_airlies"
   ]
  },
  {
   "cell_type": "markdown",
   "metadata": {},
   "source": [
    "Some tags may not match the airline names used on the Stack Exchange website, e.g. Jet Blue Airways appear as jetblue, rather than jetblue-airways. For proper operation you would need to use several variants for each name, e.g. jetblue-airways, jet-blue-airways, jetblue, etc."
   ]
  },
  {
   "cell_type": "markdown",
   "metadata": {},
   "source": [
    "The results can be presented as horizontal bar plot:"
   ]
  },
  {
   "cell_type": "code",
   "execution_count": 46,
   "metadata": {},
   "outputs": [
    {
     "data": {
      "image/png": "[encoded data removed]",
      "text/plain": [
       "<Figure size 432x288 with 1 Axes>"
      ]
     },
     "metadata": {
      "needs_background": "light"
     },
     "output_type": "display_data"
    }
   ],
   "source": [
    "plt.barh(namer_airlies.TagName,namer_airlies.Count, color=namer_airlies.Color)\n",
    "plt.grid()"
   ]
  },
  {
   "cell_type": "markdown",
   "metadata": {},
   "source": [
    "To seek the top most popular Asia airlines we will again do some web scraping of wikipedia page:"
   ]
  },
  {
   "cell_type": "code",
   "execution_count": 47,
   "metadata": {},
   "outputs": [],
   "source": [
    "web_asia_airlines = pd.read_html(\"https://en.wikipedia.org/wiki/List_of_largest_airlines_in_Asia\")"
   ]
  },
  {
   "cell_type": "code",
   "execution_count": 48,
   "metadata": {},
   "outputs": [],
   "source": [
    "asia_airlines = web_asia_airlines[0].iloc[:,2]"
   ]
  },
  {
   "cell_type": "code",
   "execution_count": 49,
   "metadata": {},
   "outputs": [
    {
     "data": {
      "text/plain": [
       "0           China Southern Airlines\n",
       "1          China Eastern Airlines 1\n",
       "2                      Air China 21\n",
       "3                 Hainan Airlines 8\n",
       "4                  Air Asia Group 2\n",
       "5                            IndiGo\n",
       "6                Emirates Airline 5\n",
       "7                  Lion Air Group 6\n",
       "8              All Nippon Airways 3\n",
       "9                  Japan Airlines 4\n",
       "10              Garuda Indonesia 18\n",
       "11       Singapore Airlines Group 9\n",
       "12                 Cathay Pacific 7\n",
       "13                           Saudia\n",
       "14                    Qatar Airways\n",
       "15                   Jet Airways 10\n",
       "16                     Air India 11\n",
       "17                    Korean Air 13\n",
       "18                      VietJet Air\n",
       "19                 Vietnam Airlines\n",
       "20                  Cebu Pacific 19\n",
       "21    Thai Airways International 14\n",
       "22                         SpiceJet\n",
       "23                Etihad Airways 12\n",
       "24               Asiana Airlines 16\n",
       "25           Philippine Airlines 20\n",
       "26                China Airlines 17\n",
       "27                            GoAir\n",
       "28             Malaysia Airlines 15\n",
       "29                      EVA Airways\n",
       "Name: Airline / holding, dtype: object"
      ]
     },
     "execution_count": 49,
     "metadata": {},
     "output_type": "execute_result"
    }
   ],
   "source": [
    "asia_airlines"
   ]
  },
  {
   "cell_type": "code",
   "execution_count": 50,
   "metadata": {},
   "outputs": [
    {
     "data": {
      "text/plain": [
       "30"
      ]
     },
     "execution_count": 50,
     "metadata": {},
     "output_type": "execute_result"
    }
   ],
   "source": [
    "len(asia_airlines)"
   ]
  },
  {
   "cell_type": "code",
   "execution_count": 51,
   "metadata": {},
   "outputs": [
    {
     "data": {
      "text/plain": [
       "'Air Asia Group 2'"
      ]
     },
     "execution_count": 51,
     "metadata": {},
     "output_type": "execute_result"
    }
   ],
   "source": [
    "asia_airlines.loc[4]"
   ]
  },
  {
   "cell_type": "markdown",
   "metadata": {},
   "source": [
    "The names downloaded from the website have additional digits at the end and do not allow easy use. Therefore, we applies a loop with few steps and a condition to remove unwanted numbers."
   ]
  },
  {
   "cell_type": "code",
   "execution_count": 52,
   "metadata": {},
   "outputs": [
    {
     "data": {
      "text/plain": [
       "['china-southern-airlines',\n",
       " 'china-eastern-airlines',\n",
       " 'air-china',\n",
       " 'hainan-airlines',\n",
       " 'air-asia-group',\n",
       " 'indigo',\n",
       " 'emirates-airline',\n",
       " 'lion-air-group',\n",
       " 'all-nippon-airways',\n",
       " 'japan-airlines',\n",
       " 'garuda-indonesia',\n",
       " 'singapore-airlines-group',\n",
       " 'cathay-pacific',\n",
       " 'saudia',\n",
       " 'qatar-airways',\n",
       " 'jet-airways',\n",
       " 'air-india',\n",
       " 'korean-air',\n",
       " 'vietjet-air',\n",
       " 'vietnam-airlines',\n",
       " 'cebu-pacific',\n",
       " 'thai-airways-international',\n",
       " 'spicejet',\n",
       " 'etihad-airways',\n",
       " 'asiana-airlines',\n",
       " 'philippine-airlines',\n",
       " 'china-airlines',\n",
       " 'goair',\n",
       " 'malaysia-airlines',\n",
       " 'eva-airways']"
      ]
     },
     "execution_count": 52,
     "metadata": {},
     "output_type": "execute_result"
    }
   ],
   "source": [
    "for i in range(0,len(asia_airlines)):\n",
    "    asia_airlines.loc[i] = asia_airlines.loc[i].replace(' ', '-').lower()\n",
    "    for j in range(0,3):\n",
    "        if asia_airlines.loc[i][-1] in ['0','1','2','3','4','5','6','7','8','9','-']:\n",
    "            asia_airlines.loc[i] = asia_airlines.loc[i][:-1]\n",
    "asia_airlines_list = asia_airlines.values.tolist()\n",
    "asia_airlines_list"
   ]
  },
  {
   "cell_type": "markdown",
   "metadata": {},
   "source": [
    "Again we will see how often do they appear as tags in `Tags_df`. The `Color` column to differentiate geographical region for the Asia is yellow.  \n",
    "The list from Wikipedia is not perfect, the Emirates airline that is the most popular is missing, but we can add it manually."
   ]
  },
  {
   "cell_type": "code",
   "execution_count": 53,
   "metadata": {},
   "outputs": [
    {
     "data": {
      "text/plain": [
       "                    TagName  Count Color\n",
       "0                  Emirates     86     y\n",
       "1             Qatar Airways     76     y\n",
       "2                 Air India     36     y\n",
       "3        Singapore Airlines     28     y\n",
       "4                    Etihad     28     y\n",
       "5               Jet Airways     22     y\n",
       "6                Korean Air     16     y\n",
       "7            Cathay Pacific     14     y\n",
       "8                 Air China     14     y\n",
       "9   China Southern Airlines     13     y\n",
       "10        Malaysia Airlines     11     y\n",
       "11           China Airlines     11     y\n",
       "12      Philippine Airlines      8     y\n",
       "13                 Spicejet      7     y\n",
       "14                    Goair      3     y\n",
       "15          Asiana Airlines      2     y"
      ]
     },
     "execution_count": 53,
     "metadata": {},
     "output_type": "execute_result"
    }
   ],
   "source": [
    "asia_airlies = Tags_df.query('TagName in [\"china-southern-airlines\",\"china-eastern-airlines\",\"air-china\",\"hainan-airlines\",\"air-asia-group\",\"emirates\",\"indigo\",\"lion-air-group\",\"all-nippon-airways\",\"japan-airlines\",\"garuda-indonesia\",\"cathay-pacific\",\"singapore-airlines\",\"saudia\",\"qatar-airways\",\"jet-airways\",\"korean-air\",\"air-india\",\"vietnam-airlines\",\"malaysia-airlines\",\"thai-airways-international\",\"cabu-pacific\",\"etihad\",\"asiana-airlines\",\"spicejet\",\"vietjet-air\",\"s7-airlines\",\"china-airlines\",\"philippine-airlines\",\"eva-airways\",\"goair\"]').loc[:,[\"TagName\",\"Count\"]].sort_values(by = \"Count\", ascending=False).reset_index(drop=True)\n",
    "asia_airlies['Color'] = 'y'\n",
    "for i in range(0,len(asia_airlies)):\n",
    "    asia_airlies.TagName[i] = asia_airlies.TagName[i].title().replace(\"-\",\" \")\n",
    "asia_airlies"
   ]
  },
  {
   "cell_type": "markdown",
   "metadata": {},
   "source": [
    "The results can be presented as horizontal bar plot:"
   ]
  },
  {
   "cell_type": "code",
   "execution_count": 54,
   "metadata": {},
   "outputs": [
    {
     "data": {
      "image/png": "[encoded data removed]",
      "text/plain": [
       "<Figure size 432x288 with 1 Axes>"
      ]
     },
     "metadata": {
      "needs_background": "light"
     },
     "output_type": "display_data"
    }
   ],
   "source": [
    "plt.barh(asia_airlies.TagName,asia_airlies.Count, color=asia_airlies.Color)\n",
    "plt.grid()"
   ]
  },
  {
   "cell_type": "markdown",
   "metadata": {},
   "source": [
    "Last let's seek the top most popular African airlines. We will again do some web scraping of wikipedia page:"
   ]
  },
  {
   "cell_type": "code",
   "execution_count": 55,
   "metadata": {},
   "outputs": [],
   "source": [
    "web_africa_airlines = pd.read_html(\"https://en.wikipedia.org/wiki/List_of_largest_airlines_in_Africa\")"
   ]
  },
  {
   "cell_type": "code",
   "execution_count": 56,
   "metadata": {},
   "outputs": [
    {
     "data": {
      "text/plain": [
       "0       Ethiopian Airlines 4\n",
       "1                 EgyptAir 5\n",
       "2          Royal Air Maroc 6\n",
       "3    South African Airways 1\n",
       "4            Kenya Airways 2\n",
       "5                 Tunisair 7\n",
       "6                Air Algérie\n",
       "7                   Arik Air\n",
       "8            Air Mauritius 3\n",
       "9            Libyan Airlines\n",
       "Name: Airline / Holding, dtype: object"
      ]
     },
     "execution_count": 56,
     "metadata": {},
     "output_type": "execute_result"
    }
   ],
   "source": [
    "africa_airlines = web_africa_airlines[2].iloc[:,2]\n",
    "africa_airlines"
   ]
  },
  {
   "cell_type": "code",
   "execution_count": 57,
   "metadata": {},
   "outputs": [
    {
     "data": {
      "text/plain": [
       "['ethiopian-airlines',\n",
       " 'egyptair',\n",
       " 'royal-air-maroc',\n",
       " 'south-african-airways',\n",
       " 'kenya-airways',\n",
       " 'tunisair',\n",
       " 'air-algérie',\n",
       " 'arik-air',\n",
       " 'air-mauritius',\n",
       " 'libyan-airlines']"
      ]
     },
     "execution_count": 57,
     "metadata": {},
     "output_type": "execute_result"
    }
   ],
   "source": [
    "for i in range(0,len(africa_airlines)):\n",
    "    africa_airlines.loc[i] = africa_airlines.loc[i].replace(' ', '-').lower()\n",
    "    for j in range(0,3):\n",
    "        if africa_airlines.loc[i][-1] in ['0','1','2','3','4','5','6','7','8','9','-']:\n",
    "            africa_airlines.loc[i] = africa_airlines.loc[i][:-1]\n",
    "africa_airlines_list = africa_airlines.values.tolist()\n",
    "africa_airlines_list"
   ]
  },
  {
   "cell_type": "markdown",
   "metadata": {},
   "source": [
    "Again we will see how often do they appear as tags in `Tags_df`. The `Color` column to differentiate geographical region for  Africa is red. "
   ]
  },
  {
   "cell_type": "code",
   "execution_count": 58,
   "metadata": {},
   "outputs": [
    {
     "data": {
      "text/plain": [
       "                 TagName  Count Color\n",
       "0     Ethiopian Airlines      5     r\n",
       "1        Royal Air Maroc      3     r\n",
       "2          Kenya Airways      3     r\n",
       "3  South African Airways      1     r"
      ]
     },
     "execution_count": 58,
     "metadata": {},
     "output_type": "execute_result"
    }
   ],
   "source": [
    "africa_airlies = Tags_df.query('TagName in [\"ethiopian-airlines\",\"egyptair\",\"royal-air-maroc\",\"south-african-airways\",\"kenya-airways\",\"tunisair\",\"air-algerie\",\"arik-air\",\"air-mauritius\",\"libyan-airlines\"]').loc[:,[\"TagName\",\"Count\"]].sort_values(by = \"Count\", ascending=False).reset_index(drop=True)\n",
    "africa_airlies['Color'] = 'r'\n",
    "for i in range(0,len(africa_airlies)):\n",
    "    africa_airlies.TagName[i] = africa_airlies.TagName[i].title().replace(\"-\",\" \")\n",
    "africa_airlies"
   ]
  },
  {
   "cell_type": "markdown",
   "metadata": {},
   "source": [
    "The results can be presented as horizontal bar plot:"
   ]
  },
  {
   "cell_type": "code",
   "execution_count": 59,
   "metadata": {
    "scrolled": true
   },
   "outputs": [
    {
     "data": {
      "image/png": "[encoded data removed]",
      "text/plain": [
       "<Figure size 432x288 with 1 Axes>"
      ]
     },
     "metadata": {
      "needs_background": "light"
     },
     "output_type": "display_data"
    }
   ],
   "source": [
    "plt.barh(africa_airlies.TagName,africa_airlies.Count, color=africa_airlies.Color)\n",
    "plt.grid()"
   ]
  },
  {
   "cell_type": "markdown",
   "metadata": {},
   "source": [
    "Let's concatanate prepared data frames from 4 geographical regions:"
   ]
  },
  {
   "cell_type": "code",
   "execution_count": 60,
   "metadata": {},
   "outputs": [
    {
     "data": {
      "text/plain": [
       "                    TagName  Count Color\n",
       "0           United Airlines    129     m\n",
       "1           British Airways    120     g\n",
       "2         American Airlines    111     m\n",
       "3                   Ryanair    103     g\n",
       "4                  Emirates     86     y\n",
       "5                 Lufthansa     80     g\n",
       "6             Qatar Airways     76     y\n",
       "7                       Klm     49     g\n",
       "8           Delta Air Lines     48     m\n",
       "9                   Easyjet     45     g\n",
       "10                Air India     36     y\n",
       "11                 Wizz Air     31     g\n",
       "12                   Etihad     28     y\n",
       "13               Air France     28     g\n",
       "14       Singapore Airlines     28     y\n",
       "15              Jet Airways     22     y\n",
       "16          Spirit Airlines     19     m\n",
       "17          Alaska Airlines     17     m\n",
       "18               Korean Air     16     y\n",
       "19           Cathay Pacific     14     y\n",
       "20                Air China     14     y\n",
       "21  China Southern Airlines     13     y\n",
       "22       Southwest Airlines     11     m\n",
       "23        Malaysia Airlines     11     y\n",
       "24           China Airlines     11     y\n",
       "25      Philippine Airlines      8     y\n",
       "26                Airbaltic      7     g\n",
       "27                 Spicejet      7     y\n",
       "28            Allegiant Air      5     m\n",
       "29       Ethiopian Airlines      5     r\n",
       "30               Aer Lingus      4     g\n",
       "31                    Goair      3     y\n",
       "32            Kenya Airways      3     r\n",
       "33      Lot Polish Airlines      3     g\n",
       "34        Frontier Airlines      3     m\n",
       "35          Royal Air Maroc      3     r\n",
       "36          Aegean Airlines      2     g\n",
       "37          Asiana Airlines      2     y\n",
       "38        Hawaiian Airlines      2     m\n",
       "39    South African Airways      1     r"
      ]
     },
     "execution_count": 60,
     "metadata": {},
     "output_type": "execute_result"
    }
   ],
   "source": [
    "frames = [europ_airlies, namer_airlies, asia_airlies, africa_airlies]\n",
    "airlies = pd.concat(frames).sort_values(by = \"Count\", ascending=False).reset_index(drop=True)\n",
    "airlies"
   ]
  },
  {
   "cell_type": "code",
   "execution_count": 61,
   "metadata": {},
   "outputs": [
    {
     "data": {
      "text/plain": [
       "<pandas.core.groupby.generic.DataFrameGroupBy object at 0x0000023D848A7B70>"
      ]
     },
     "execution_count": 61,
     "metadata": {},
     "output_type": "execute_result"
    }
   ],
   "source": [
    "airlies.groupby([\"Color\"])"
   ]
  },
  {
   "cell_type": "code",
   "execution_count": 62,
   "metadata": {},
   "outputs": [
    {
     "data": {
      "text/plain": [
       "<bound method make_invalid_op.<locals>.invalid_op of CategoricalIndex(['y', 'g', 'm', 'r'], categories=['g', 'm', 'r', 'y'], ordered=False, dtype='category')>"
      ]
     },
     "execution_count": 62,
     "metadata": {},
     "output_type": "execute_result"
    }
   ],
   "source": [
    "hh = airlies.Color.astype(\"category\").value_counts()\n",
    "hh.index.all"
   ]
  },
  {
   "cell_type": "markdown",
   "metadata": {},
   "source": [
    "Now let's see all chosen airlines together:"
   ]
  },
  {
   "cell_type": "code",
   "execution_count": 63,
   "metadata": {},
   "outputs": [
    {
     "data": {
      "image/png": "[encoded data removed]",
      "text/plain": [
       "<Figure size 864x720 with 1 Axes>"
      ]
     },
     "metadata": {
      "needs_background": "light"
     },
     "output_type": "display_data"
    }
   ],
   "source": [
    "airlies[\"Color\"] = airlies.Color.astype(\"category\")\n",
    "fig= plt.figure(figsize=(12,10))\n",
    "axes= fig.add_axes([0.1,0.1,0.8,0.8])\n",
    "plt.grid()\n",
    "axes.barh(airlies.TagName,airlies.Count, color=airlies.Color)\n",
    "plt.show()"
   ]
  },
  {
   "cell_type": "code",
   "execution_count": null,
   "metadata": {},
   "outputs": [],
   "source": []
  }
 ],
 "metadata": {
  "kernelspec": {
   "display_name": "Python 3",
   "language": "python",
   "name": "python3"
  },
  "language_info": {
   "codemirror_mode": {
    "name": "ipython",
    "version": 3
   },
   "file_extension": ".py",
   "mimetype": "text/x-python",
   "name": "python",
   "nbconvert_exporter": "python",
   "pygments_lexer": "ipython3",
   "version": "3.7.0"
  }
 },
 "nbformat": 4,
 "nbformat_minor": 2
}
