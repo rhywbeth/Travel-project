{
 "cells": [
  {
   "cell_type": "markdown",
   "metadata": {},
   "source": [
    "### 1. Loading and cleaning of data\n",
    "\n",
    "The data sets are from the website https://travel.stackexchange.com/\n",
    "\n",
    "The file travel.stackexchange.com.7z (license: cc-by-sa 3.0) was downloaded from https://archive.org/details/stackexchange as XML files, each represents another data frame.\n",
    "\n",
    "The data was:\n",
    "- imported using Python,\n",
    "- cleared - numerical data in the appropriate int or float types, dates in the datetime type, etc.\n",
    "- transformed into pandas data frames,\n",
    "- exported to a CSV file.\n",
    "\n",
    "The full code needed to complete the above steps is provided below."
   ]
  },
  {
   "cell_type": "code",
   "execution_count": 1,
   "metadata": {},
   "outputs": [],
   "source": [
    "# import of required packages\n",
    "\n",
    "import pandas as pd\n",
    "import numpy as np\n",
    "from copy import deepcopy\n",
    "import io, os.path\n",
    "from lxml import etree as et\n",
    "import csv\n",
    "\n",
    "\n",
    "# define a function that creates a dictionary for loaded tables\n",
    "\n",
    "def dict_fun(root):\n",
    "    root_attrib = root.attrib\n",
    "    for tab in root:\n",
    "        tab_dict = deepcopy(root_attrib)\n",
    "        attrib_dict = {}\n",
    "        attrib_dict.update(tab.attrib)\n",
    "        for key, value in attrib_dict.items():\n",
    "            attrib_dict.update({key:value})\n",
    "        tab_dict.update(attrib_dict)\n",
    "        yield tab_dict\n",
    "        \n",
    "# load the XML files, convert to pandas data frames using the dict_fun function and save in the form of CSV\n",
    "\n",
    "for frame in ['Badges','Comments','PostHistory','PostLinks','Posts','Tags','Users','Votes']:\n",
    "    link = os.path.join(r'.\\Travel_stack_exchange',frame)  \n",
    "    tree = et.parse(link + '.xml')\n",
    "    root = tree.getroot()\n",
    "    tab_list = list(dict_fun(root))\n",
    "    df = pd.DataFrame(tab_list)\n",
    "    df = df.replace(r'\\\\n', ' ', regex=True)\n",
    "    df = df.replace(r'\\\\r', ' ', regex=True)\n",
    "    df.to_csv(link + \".csv\", sep=';', index=False)\n",
    "    df = pd.read_csv(link + \".csv\", sep=';')"
   ]
  },
  {
   "cell_type": "code",
   "execution_count": 2,
   "metadata": {},
   "outputs": [],
   "source": [
    "# load data frames from CSV files\n",
    "\n",
    "Badges_df = pd.read_csv(r'.\\Travel_stack_exchange\\Badges.csv', sep=';')\n",
    "Comments_df = pd.read_csv(r'.\\Travel_stack_exchange\\Comments.csv', sep=';')\n",
    "PostHistory_df = pd.read_csv(r'.\\Travel_stack_exchange\\PostHistory.csv', sep=';')\n",
    "PostLinks_df = pd.read_csv(r'.\\Travel_stack_exchange\\PostLinks.csv', sep=';')\n",
    "Posts_df = pd.read_csv(r'.\\Travel_stack_exchange\\Posts.csv', sep=';')\n",
    "Tags_df = pd.read_csv(r'.\\Travel_stack_exchange\\Tags.csv', sep=';')\n",
    "Users_df = pd.read_csv(r'.\\Travel_stack_exchange\\Users.csv', sep=';')\n",
    "Votes_df = pd.read_csv(r'.\\Travel_stack_exchange\\Votes.csv', sep=';')"
   ]
  },
  {
   "cell_type": "code",
   "execution_count": 3,
   "metadata": {},
   "outputs": [
    {
     "name": "stdout",
     "output_type": "stream",
     "text": [
      "<class 'pandas.core.frame.DataFrame'>\n",
      "RangeIndex: 136869 entries, 0 to 136868\n",
      "Data columns (total 6 columns):\n",
      "Class       136869 non-null int64\n",
      "Date        136869 non-null object\n",
      "Id          136869 non-null int64\n",
      "Name        136869 non-null object\n",
      "TagBased    136869 non-null bool\n",
      "UserId      136869 non-null int64\n",
      "dtypes: bool(1), int64(3), object(2)\n",
      "memory usage: 5.4+ MB\n"
     ]
    }
   ],
   "source": [
    "# calling of data frames\n",
    "\n",
    "Badges_df.info()"
   ]
  },
  {
   "cell_type": "code",
   "execution_count": 4,
   "metadata": {},
   "outputs": [
    {
     "data": {
      "text/html": [
       "<div>\n",
       "<style scoped>\n",
       "    .dataframe tbody tr th:only-of-type {\n",
       "        vertical-align: middle;\n",
       "    }\n",
       "\n",
       "    .dataframe tbody tr th {\n",
       "        vertical-align: top;\n",
       "    }\n",
       "\n",
       "    .dataframe thead th {\n",
       "        text-align: right;\n",
       "    }\n",
       "</style>\n",
       "<table border=\"1\" class=\"dataframe\">\n",
       "  <thead>\n",
       "    <tr style=\"text-align: right;\">\n",
       "      <th></th>\n",
       "      <th>Class</th>\n",
       "      <th>Date</th>\n",
       "      <th>Id</th>\n",
       "      <th>Name</th>\n",
       "      <th>TagBased</th>\n",
       "      <th>UserId</th>\n",
       "    </tr>\n",
       "  </thead>\n",
       "  <tbody>\n",
       "    <tr>\n",
       "      <th>0</th>\n",
       "      <td>3</td>\n",
       "      <td>2011-06-21 20:16:48.910</td>\n",
       "      <td>1</td>\n",
       "      <td>Autobiographer</td>\n",
       "      <td>False</td>\n",
       "      <td>2</td>\n",
       "    </tr>\n",
       "  </tbody>\n",
       "</table>\n",
       "</div>"
      ],
      "text/plain": [
       "   Class                    Date  Id            Name  TagBased  UserId\n",
       "0      3 2011-06-21 20:16:48.910   1  Autobiographer     False       2"
      ]
     },
     "execution_count": 4,
     "metadata": {},
     "output_type": "execute_result"
    }
   ],
   "source": [
    "# we want the column displaying dates to be of the datetime type\n",
    "Badges_df.Date = pd.to_datetime(Badges_df.Date)\n",
    "Badges_df.head(1)"
   ]
  },
  {
   "cell_type": "code",
   "execution_count": 5,
   "metadata": {},
   "outputs": [
    {
     "name": "stdout",
     "output_type": "stream",
     "text": [
      "<class 'pandas.core.frame.DataFrame'>\n",
      "RangeIndex: 136869 entries, 0 to 136868\n",
      "Data columns (total 6 columns):\n",
      "Class       136869 non-null int64\n",
      "Date        136869 non-null datetime64[ns]\n",
      "Id          136869 non-null int64\n",
      "Name        136869 non-null object\n",
      "TagBased    136869 non-null bool\n",
      "UserId      136869 non-null int64\n",
      "dtypes: bool(1), datetime64[ns](1), int64(3), object(1)\n",
      "memory usage: 5.4+ MB\n"
     ]
    }
   ],
   "source": [
    "Badges_df.info()"
   ]
  },
  {
   "cell_type": "code",
   "execution_count": 6,
   "metadata": {
    "scrolled": false
   },
   "outputs": [
    {
     "name": "stdout",
     "output_type": "stream",
     "text": [
      "<class 'pandas.core.frame.DataFrame'>\n",
      "RangeIndex: 193971 entries, 0 to 193970\n",
      "Data columns (total 7 columns):\n",
      "CreationDate       193971 non-null datetime64[ns]\n",
      "Id                 193971 non-null int64\n",
      "PostId             193971 non-null int64\n",
      "Score              193971 non-null int64\n",
      "Text               193971 non-null object\n",
      "UserDisplayName    4673 non-null object\n",
      "UserId             190175 non-null float64\n",
      "dtypes: datetime64[ns](1), float64(1), int64(3), object(2)\n",
      "memory usage: 10.4+ MB\n"
     ]
    }
   ],
   "source": [
    "Comments_df.CreationDate = pd.to_datetime(Comments_df.CreationDate)\n",
    "Comments_df.info()"
   ]
  },
  {
   "cell_type": "code",
   "execution_count": 7,
   "metadata": {},
   "outputs": [
    {
     "data": {
      "text/html": [
       "<div>\n",
       "<style scoped>\n",
       "    .dataframe tbody tr th:only-of-type {\n",
       "        vertical-align: middle;\n",
       "    }\n",
       "\n",
       "    .dataframe tbody tr th {\n",
       "        vertical-align: top;\n",
       "    }\n",
       "\n",
       "    .dataframe thead th {\n",
       "        text-align: right;\n",
       "    }\n",
       "</style>\n",
       "<table border=\"1\" class=\"dataframe\">\n",
       "  <thead>\n",
       "    <tr style=\"text-align: right;\">\n",
       "      <th></th>\n",
       "      <th>CreationDate</th>\n",
       "      <th>Id</th>\n",
       "      <th>PostId</th>\n",
       "      <th>Score</th>\n",
       "      <th>Text</th>\n",
       "      <th>UserDisplayName</th>\n",
       "      <th>UserId</th>\n",
       "    </tr>\n",
       "  </thead>\n",
       "  <tbody>\n",
       "    <tr>\n",
       "      <th>0</th>\n",
       "      <td>2011-06-21 20:25:14.257</td>\n",
       "      <td>1</td>\n",
       "      <td>1</td>\n",
       "      <td>0</td>\n",
       "      <td>To help with the cruise line question: Where a...</td>\n",
       "      <td>NaN</td>\n",
       "      <td>12.0</td>\n",
       "    </tr>\n",
       "  </tbody>\n",
       "</table>\n",
       "</div>"
      ],
      "text/plain": [
       "             CreationDate  Id  PostId  Score  \\\n",
       "0 2011-06-21 20:25:14.257   1       1      0   \n",
       "\n",
       "                                                Text UserDisplayName  UserId  \n",
       "0  To help with the cruise line question: Where a...             NaN    12.0  "
      ]
     },
     "execution_count": 7,
     "metadata": {},
     "output_type": "execute_result"
    }
   ],
   "source": [
    "Comments_df.head(1)"
   ]
  },
  {
   "cell_type": "code",
   "execution_count": 8,
   "metadata": {},
   "outputs": [
    {
     "name": "stdout",
     "output_type": "stream",
     "text": [
      "<class 'pandas.core.frame.DataFrame'>\n",
      "RangeIndex: 313315 entries, 0 to 313314\n",
      "Data columns (total 9 columns):\n",
      "Comment              157669 non-null object\n",
      "CreationDate         313310 non-null datetime64[ns]\n",
      "Id                   313315 non-null int64\n",
      "PostHistoryTypeId    313310 non-null float64\n",
      "PostId               313310 non-null float64\n",
      "RevisionGUID         313310 non-null object\n",
      "Text                 278411 non-null object\n",
      "UserDisplayName      6402 non-null object\n",
      "UserId               281374 non-null float64\n",
      "dtypes: datetime64[ns](1), float64(3), int64(1), object(4)\n",
      "memory usage: 21.5+ MB\n"
     ]
    }
   ],
   "source": [
    "PostHistory_df.CreationDate = pd.to_datetime(PostHistory_df.CreationDate)\n",
    "PostHistory_df.info()"
   ]
  },
  {
   "cell_type": "code",
   "execution_count": 9,
   "metadata": {},
   "outputs": [
    {
     "data": {
      "text/html": [
       "<div>\n",
       "<style scoped>\n",
       "    .dataframe tbody tr th:only-of-type {\n",
       "        vertical-align: middle;\n",
       "    }\n",
       "\n",
       "    .dataframe tbody tr th {\n",
       "        vertical-align: top;\n",
       "    }\n",
       "\n",
       "    .dataframe thead th {\n",
       "        text-align: right;\n",
       "    }\n",
       "</style>\n",
       "<table border=\"1\" class=\"dataframe\">\n",
       "  <thead>\n",
       "    <tr style=\"text-align: right;\">\n",
       "      <th></th>\n",
       "      <th>Comment</th>\n",
       "      <th>CreationDate</th>\n",
       "      <th>Id</th>\n",
       "      <th>PostHistoryTypeId</th>\n",
       "      <th>PostId</th>\n",
       "      <th>RevisionGUID</th>\n",
       "      <th>Text</th>\n",
       "      <th>UserDisplayName</th>\n",
       "      <th>UserId</th>\n",
       "    </tr>\n",
       "  </thead>\n",
       "  <tbody>\n",
       "    <tr>\n",
       "      <th>0</th>\n",
       "      <td>NaN</td>\n",
       "      <td>2011-06-21 20:19:34.730</td>\n",
       "      <td>1</td>\n",
       "      <td>2.0</td>\n",
       "      <td>1.0</td>\n",
       "      <td>1e04af17-3bdb-4263-aa46-97ee7fb1b0b6</td>\n",
       "      <td>My finance and myself are looking for a good C...</td>\n",
       "      <td>NaN</td>\n",
       "      <td>9.0</td>\n",
       "    </tr>\n",
       "  </tbody>\n",
       "</table>\n",
       "</div>"
      ],
      "text/plain": [
       "  Comment            CreationDate  Id  PostHistoryTypeId  PostId  \\\n",
       "0     NaN 2011-06-21 20:19:34.730   1                2.0     1.0   \n",
       "\n",
       "                           RevisionGUID  \\\n",
       "0  1e04af17-3bdb-4263-aa46-97ee7fb1b0b6   \n",
       "\n",
       "                                                Text UserDisplayName  UserId  \n",
       "0  My finance and myself are looking for a good C...             NaN     9.0  "
      ]
     },
     "execution_count": 9,
     "metadata": {},
     "output_type": "execute_result"
    }
   ],
   "source": [
    "PostHistory_df.head(1)"
   ]
  },
  {
   "cell_type": "code",
   "execution_count": 10,
   "metadata": {},
   "outputs": [
    {
     "name": "stdout",
     "output_type": "stream",
     "text": [
      "<class 'pandas.core.frame.DataFrame'>\n",
      "RangeIndex: 19812 entries, 0 to 19811\n",
      "Data columns (total 5 columns):\n",
      "CreationDate     19812 non-null datetime64[ns]\n",
      "Id               19812 non-null int64\n",
      "LinkTypeId       19812 non-null int64\n",
      "PostId           19812 non-null int64\n",
      "RelatedPostId    19812 non-null int64\n",
      "dtypes: datetime64[ns](1), int64(4)\n",
      "memory usage: 774.0 KB\n"
     ]
    }
   ],
   "source": [
    "PostLinks_df.CreationDate = pd.to_datetime(PostLinks_df.CreationDate)\n",
    "PostLinks_df.info()"
   ]
  },
  {
   "cell_type": "code",
   "execution_count": 11,
   "metadata": {},
   "outputs": [
    {
     "data": {
      "text/html": [
       "<div>\n",
       "<style scoped>\n",
       "    .dataframe tbody tr th:only-of-type {\n",
       "        vertical-align: middle;\n",
       "    }\n",
       "\n",
       "    .dataframe tbody tr th {\n",
       "        vertical-align: top;\n",
       "    }\n",
       "\n",
       "    .dataframe thead th {\n",
       "        text-align: right;\n",
       "    }\n",
       "</style>\n",
       "<table border=\"1\" class=\"dataframe\">\n",
       "  <thead>\n",
       "    <tr style=\"text-align: right;\">\n",
       "      <th></th>\n",
       "      <th>CreationDate</th>\n",
       "      <th>Id</th>\n",
       "      <th>LinkTypeId</th>\n",
       "      <th>PostId</th>\n",
       "      <th>RelatedPostId</th>\n",
       "    </tr>\n",
       "  </thead>\n",
       "  <tbody>\n",
       "    <tr>\n",
       "      <th>0</th>\n",
       "      <td>2011-06-21 20:49:19.747</td>\n",
       "      <td>168</td>\n",
       "      <td>1</td>\n",
       "      <td>28</td>\n",
       "      <td>25</td>\n",
       "    </tr>\n",
       "  </tbody>\n",
       "</table>\n",
       "</div>"
      ],
      "text/plain": [
       "             CreationDate   Id  LinkTypeId  PostId  RelatedPostId\n",
       "0 2011-06-21 20:49:19.747  168           1      28             25"
      ]
     },
     "execution_count": 11,
     "metadata": {},
     "output_type": "execute_result"
    }
   ],
   "source": [
    "PostLinks_df.head(1)"
   ]
  },
  {
   "cell_type": "code",
   "execution_count": 12,
   "metadata": {
    "scrolled": true
   },
   "outputs": [
    {
     "name": "stdout",
     "output_type": "stream",
     "text": [
      "<class 'pandas.core.frame.DataFrame'>\n",
      "RangeIndex: 87956 entries, 0 to 87955\n",
      "Data columns (total 21 columns):\n",
      "AcceptedAnswerId         13490 non-null float64\n",
      "AnswerCount              31843 non-null float64\n",
      "Body                     87659 non-null object\n",
      "ClosedDate               7215 non-null datetime64[ns]\n",
      "CommentCount             87956 non-null int64\n",
      "CommunityOwnedDate       290 non-null datetime64[ns]\n",
      "CreationDate             87956 non-null datetime64[ns]\n",
      "FavoriteCount            7664 non-null float64\n",
      "Id                       87956 non-null int64\n",
      "LastActivityDate         87956 non-null datetime64[ns]\n",
      "LastEditDate             50123 non-null datetime64[ns]\n",
      "LastEditorDisplayName    1238 non-null object\n",
      "LastEditorUserId         49424 non-null float64\n",
      "OwnerDisplayName         2613 non-null object\n",
      "OwnerUserId              85879 non-null float64\n",
      "ParentId                 52013 non-null float64\n",
      "PostTypeId               87956 non-null int64\n",
      "Score                    87956 non-null int64\n",
      "Tags                     31843 non-null object\n",
      "Title                    31843 non-null object\n",
      "ViewCount                31843 non-null float64\n",
      "dtypes: datetime64[ns](5), float64(7), int64(4), object(5)\n",
      "memory usage: 14.1+ MB\n"
     ]
    }
   ],
   "source": [
    "Posts_df.ClosedDate = pd.to_datetime(Posts_df.ClosedDate)\n",
    "Posts_df.CommunityOwnedDate = pd.to_datetime(Posts_df.CommunityOwnedDate)\n",
    "Posts_df.CreationDate = pd.to_datetime(Posts_df.CreationDate)\n",
    "Posts_df.LastActivityDate = pd.to_datetime(Posts_df.LastActivityDate)\n",
    "Posts_df.LastEditDate = pd.to_datetime(Posts_df.LastEditDate)\n",
    "Posts_df.info()\n",
    "# Brak kolumny DeletionDate, zgodnie z meta.stackexchange.com/question/2677/database-schema-documentation-for-the-public-data-dump-and-sede\\\n",
    "# ta kolumna nie występuje dla data dump. Zatem ramka danych jest poprawna."
   ]
  },
  {
   "cell_type": "code",
   "execution_count": 13,
   "metadata": {},
   "outputs": [
    {
     "data": {
      "text/html": [
       "<div>\n",
       "<style scoped>\n",
       "    .dataframe tbody tr th:only-of-type {\n",
       "        vertical-align: middle;\n",
       "    }\n",
       "\n",
       "    .dataframe tbody tr th {\n",
       "        vertical-align: top;\n",
       "    }\n",
       "\n",
       "    .dataframe thead th {\n",
       "        text-align: right;\n",
       "    }\n",
       "</style>\n",
       "<table border=\"1\" class=\"dataframe\">\n",
       "  <thead>\n",
       "    <tr style=\"text-align: right;\">\n",
       "      <th></th>\n",
       "      <th>AcceptedAnswerId</th>\n",
       "      <th>AnswerCount</th>\n",
       "      <th>Body</th>\n",
       "      <th>ClosedDate</th>\n",
       "      <th>CommentCount</th>\n",
       "      <th>CommunityOwnedDate</th>\n",
       "      <th>CreationDate</th>\n",
       "      <th>FavoriteCount</th>\n",
       "      <th>Id</th>\n",
       "      <th>LastActivityDate</th>\n",
       "      <th>...</th>\n",
       "      <th>LastEditorDisplayName</th>\n",
       "      <th>LastEditorUserId</th>\n",
       "      <th>OwnerDisplayName</th>\n",
       "      <th>OwnerUserId</th>\n",
       "      <th>ParentId</th>\n",
       "      <th>PostTypeId</th>\n",
       "      <th>Score</th>\n",
       "      <th>Tags</th>\n",
       "      <th>Title</th>\n",
       "      <th>ViewCount</th>\n",
       "    </tr>\n",
       "  </thead>\n",
       "  <tbody>\n",
       "    <tr>\n",
       "      <th>0</th>\n",
       "      <td>393.0</td>\n",
       "      <td>4.0</td>\n",
       "      <td>&lt;p&gt;My fiancée and I are looking for a good Car...</td>\n",
       "      <td>2013-02-25 23:52:47.953</td>\n",
       "      <td>4</td>\n",
       "      <td>NaT</td>\n",
       "      <td>2011-06-21 20:19:34.730</td>\n",
       "      <td>NaN</td>\n",
       "      <td>1</td>\n",
       "      <td>2012-05-24 14:52:14.760</td>\n",
       "      <td>...</td>\n",
       "      <td>NaN</td>\n",
       "      <td>101.0</td>\n",
       "      <td>NaN</td>\n",
       "      <td>9.0</td>\n",
       "      <td>NaN</td>\n",
       "      <td>1</td>\n",
       "      <td>8</td>\n",
       "      <td>&lt;caribbean&gt;&lt;cruising&gt;&lt;vacations&gt;</td>\n",
       "      <td>What are some Caribbean cruises for October?</td>\n",
       "      <td>443.0</td>\n",
       "    </tr>\n",
       "  </tbody>\n",
       "</table>\n",
       "<p>1 rows × 21 columns</p>\n",
       "</div>"
      ],
      "text/plain": [
       "   AcceptedAnswerId  AnswerCount  \\\n",
       "0             393.0          4.0   \n",
       "\n",
       "                                                Body              ClosedDate  \\\n",
       "0  <p>My fiancée and I are looking for a good Car... 2013-02-25 23:52:47.953   \n",
       "\n",
       "   CommentCount CommunityOwnedDate            CreationDate  FavoriteCount  Id  \\\n",
       "0             4                NaT 2011-06-21 20:19:34.730            NaN   1   \n",
       "\n",
       "         LastActivityDate    ...    LastEditorDisplayName LastEditorUserId  \\\n",
       "0 2012-05-24 14:52:14.760    ...                      NaN            101.0   \n",
       "\n",
       "   OwnerDisplayName OwnerUserId  ParentId  PostTypeId  Score  \\\n",
       "0               NaN         9.0       NaN           1      8   \n",
       "\n",
       "                               Tags  \\\n",
       "0  <caribbean><cruising><vacations>   \n",
       "\n",
       "                                          Title ViewCount  \n",
       "0  What are some Caribbean cruises for October?     443.0  \n",
       "\n",
       "[1 rows x 21 columns]"
      ]
     },
     "execution_count": 13,
     "metadata": {},
     "output_type": "execute_result"
    }
   ],
   "source": [
    "Posts_df.head(1)"
   ]
  },
  {
   "cell_type": "code",
   "execution_count": 14,
   "metadata": {},
   "outputs": [
    {
     "name": "stdout",
     "output_type": "stream",
     "text": [
      "<class 'pandas.core.frame.DataFrame'>\n",
      "RangeIndex: 1784 entries, 0 to 1783\n",
      "Data columns (total 5 columns):\n",
      "Count            1784 non-null int64\n",
      "ExcerptPostId    1714 non-null float64\n",
      "Id               1784 non-null int64\n",
      "TagName          1784 non-null object\n",
      "WikiPostId       1714 non-null float64\n",
      "dtypes: float64(2), int64(2), object(1)\n",
      "memory usage: 69.8+ KB\n"
     ]
    }
   ],
   "source": [
    "Tags_df.info()"
   ]
  },
  {
   "cell_type": "code",
   "execution_count": 15,
   "metadata": {},
   "outputs": [
    {
     "data": {
      "text/html": [
       "<div>\n",
       "<style scoped>\n",
       "    .dataframe tbody tr th:only-of-type {\n",
       "        vertical-align: middle;\n",
       "    }\n",
       "\n",
       "    .dataframe tbody tr th {\n",
       "        vertical-align: top;\n",
       "    }\n",
       "\n",
       "    .dataframe thead th {\n",
       "        text-align: right;\n",
       "    }\n",
       "</style>\n",
       "<table border=\"1\" class=\"dataframe\">\n",
       "  <thead>\n",
       "    <tr style=\"text-align: right;\">\n",
       "      <th></th>\n",
       "      <th>Count</th>\n",
       "      <th>ExcerptPostId</th>\n",
       "      <th>Id</th>\n",
       "      <th>TagName</th>\n",
       "      <th>WikiPostId</th>\n",
       "    </tr>\n",
       "  </thead>\n",
       "  <tbody>\n",
       "    <tr>\n",
       "      <th>0</th>\n",
       "      <td>116</td>\n",
       "      <td>2138.0</td>\n",
       "      <td>1</td>\n",
       "      <td>cruising</td>\n",
       "      <td>2137.0</td>\n",
       "    </tr>\n",
       "  </tbody>\n",
       "</table>\n",
       "</div>"
      ],
      "text/plain": [
       "   Count  ExcerptPostId  Id   TagName  WikiPostId\n",
       "0    116         2138.0   1  cruising      2137.0"
      ]
     },
     "execution_count": 15,
     "metadata": {},
     "output_type": "execute_result"
    }
   ],
   "source": [
    "Tags_df.head(1)"
   ]
  },
  {
   "cell_type": "code",
   "execution_count": 16,
   "metadata": {},
   "outputs": [
    {
     "name": "stdout",
     "output_type": "stream",
     "text": [
      "<class 'pandas.core.frame.DataFrame'>\n",
      "RangeIndex: 59328 entries, 0 to 59327\n",
      "Data columns (total 13 columns):\n",
      "AboutMe            16928 non-null object\n",
      "AccountId          59325 non-null float64\n",
      "CreationDate       59328 non-null datetime64[ns]\n",
      "DisplayName        59325 non-null object\n",
      "DownVotes          59328 non-null int64\n",
      "Id                 59328 non-null int64\n",
      "LastAccessDate     59328 non-null datetime64[ns]\n",
      "Location           20000 non-null object\n",
      "ProfileImageUrl    38425 non-null object\n",
      "Reputation         59328 non-null int64\n",
      "UpVotes            59328 non-null int64\n",
      "Views              59328 non-null int64\n",
      "WebsiteUrl         11751 non-null object\n",
      "dtypes: datetime64[ns](2), float64(1), int64(5), object(5)\n",
      "memory usage: 5.9+ MB\n"
     ]
    }
   ],
   "source": [
    "Users_df.CreationDate = pd.to_datetime(Users_df.CreationDate)\n",
    "Users_df.LastAccessDate = pd.to_datetime(Users_df.LastAccessDate)\n",
    "Users_df.info()"
   ]
  },
  {
   "cell_type": "code",
   "execution_count": 17,
   "metadata": {
    "scrolled": true
   },
   "outputs": [
    {
     "data": {
      "text/html": [
       "<div>\n",
       "<style scoped>\n",
       "    .dataframe tbody tr th:only-of-type {\n",
       "        vertical-align: middle;\n",
       "    }\n",
       "\n",
       "    .dataframe tbody tr th {\n",
       "        vertical-align: top;\n",
       "    }\n",
       "\n",
       "    .dataframe thead th {\n",
       "        text-align: right;\n",
       "    }\n",
       "</style>\n",
       "<table border=\"1\" class=\"dataframe\">\n",
       "  <thead>\n",
       "    <tr style=\"text-align: right;\">\n",
       "      <th></th>\n",
       "      <th>AboutMe</th>\n",
       "      <th>AccountId</th>\n",
       "      <th>CreationDate</th>\n",
       "      <th>DisplayName</th>\n",
       "      <th>DownVotes</th>\n",
       "      <th>Id</th>\n",
       "      <th>LastAccessDate</th>\n",
       "      <th>Location</th>\n",
       "      <th>ProfileImageUrl</th>\n",
       "      <th>Reputation</th>\n",
       "      <th>UpVotes</th>\n",
       "      <th>Views</th>\n",
       "      <th>WebsiteUrl</th>\n",
       "    </tr>\n",
       "  </thead>\n",
       "  <tbody>\n",
       "    <tr>\n",
       "      <th>0</th>\n",
       "      <td>&lt;p&gt;Hi, I'm not really a person.&lt;/p&gt;\\r\\n\\r\\n&lt;p&gt;...</td>\n",
       "      <td>-1.0</td>\n",
       "      <td>2011-06-21 15:16:44.253</td>\n",
       "      <td>Community</td>\n",
       "      <td>16235</td>\n",
       "      <td>-1</td>\n",
       "      <td>2011-06-21 15:16:44.253</td>\n",
       "      <td>on the server farm</td>\n",
       "      <td>NaN</td>\n",
       "      <td>1</td>\n",
       "      <td>3160</td>\n",
       "      <td>0</td>\n",
       "      <td>http://meta.stackexchange.com/</td>\n",
       "    </tr>\n",
       "  </tbody>\n",
       "</table>\n",
       "</div>"
      ],
      "text/plain": [
       "                                             AboutMe  AccountId  \\\n",
       "0  <p>Hi, I'm not really a person.</p>\\r\\n\\r\\n<p>...       -1.0   \n",
       "\n",
       "             CreationDate DisplayName  DownVotes  Id          LastAccessDate  \\\n",
       "0 2011-06-21 15:16:44.253   Community      16235  -1 2011-06-21 15:16:44.253   \n",
       "\n",
       "             Location ProfileImageUrl  Reputation  UpVotes  Views  \\\n",
       "0  on the server farm             NaN           1     3160      0   \n",
       "\n",
       "                       WebsiteUrl  \n",
       "0  http://meta.stackexchange.com/  "
      ]
     },
     "execution_count": 17,
     "metadata": {},
     "output_type": "execute_result"
    }
   ],
   "source": [
    "Users_df.head(1)"
   ]
  },
  {
   "cell_type": "code",
   "execution_count": 18,
   "metadata": {},
   "outputs": [
    {
     "name": "stdout",
     "output_type": "stream",
     "text": [
      "<class 'pandas.core.frame.DataFrame'>\n",
      "RangeIndex: 698143 entries, 0 to 698142\n",
      "Data columns (total 6 columns):\n",
      "BountyAmount    2633 non-null float64\n",
      "CreationDate    698143 non-null datetime64[ns]\n",
      "Id              698143 non-null int64\n",
      "PostId          698143 non-null int64\n",
      "UserId          15483 non-null float64\n",
      "VoteTypeId      698143 non-null int64\n",
      "dtypes: datetime64[ns](1), float64(2), int64(3)\n",
      "memory usage: 32.0 MB\n"
     ]
    }
   ],
   "source": [
    "Votes_df.CreationDate = pd.to_datetime(Votes_df.CreationDate)\n",
    "Votes_df.info()"
   ]
  },
  {
   "cell_type": "code",
   "execution_count": 19,
   "metadata": {},
   "outputs": [
    {
     "data": {
      "text/html": [
       "<div>\n",
       "<style scoped>\n",
       "    .dataframe tbody tr th:only-of-type {\n",
       "        vertical-align: middle;\n",
       "    }\n",
       "\n",
       "    .dataframe tbody tr th {\n",
       "        vertical-align: top;\n",
       "    }\n",
       "\n",
       "    .dataframe thead th {\n",
       "        text-align: right;\n",
       "    }\n",
       "</style>\n",
       "<table border=\"1\" class=\"dataframe\">\n",
       "  <thead>\n",
       "    <tr style=\"text-align: right;\">\n",
       "      <th></th>\n",
       "      <th>BountyAmount</th>\n",
       "      <th>CreationDate</th>\n",
       "      <th>Id</th>\n",
       "      <th>PostId</th>\n",
       "      <th>UserId</th>\n",
       "      <th>VoteTypeId</th>\n",
       "    </tr>\n",
       "  </thead>\n",
       "  <tbody>\n",
       "    <tr>\n",
       "      <th>0</th>\n",
       "      <td>NaN</td>\n",
       "      <td>2011-06-21</td>\n",
       "      <td>1</td>\n",
       "      <td>1</td>\n",
       "      <td>NaN</td>\n",
       "      <td>2</td>\n",
       "    </tr>\n",
       "  </tbody>\n",
       "</table>\n",
       "</div>"
      ],
      "text/plain": [
       "   BountyAmount CreationDate  Id  PostId  UserId  VoteTypeId\n",
       "0           NaN   2011-06-21   1       1     NaN           2"
      ]
     },
     "execution_count": 19,
     "metadata": {},
     "output_type": "execute_result"
    }
   ],
   "source": [
    "Votes_df.head(1)"
   ]
  },
  {
   "cell_type": "markdown",
   "metadata": {},
   "source": [
    "The entire first part code is executed in about 65 seconds."
   ]
  }
 ],
 "metadata": {
  "kernelspec": {
   "display_name": "Python 3",
   "language": "python",
   "name": "python3"
  },
  "language_info": {
   "codemirror_mode": {
    "name": "ipython",
    "version": 3
   },
   "file_extension": ".py",
   "mimetype": "text/x-python",
   "name": "python",
   "nbconvert_exporter": "python",
   "pygments_lexer": "ipython3",
   "version": "3.7.0"
  }
 },
 "nbformat": 4,
 "nbformat_minor": 2
}
